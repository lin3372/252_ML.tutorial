{
  "cells": [
    {
      "cell_type": "markdown",
      "metadata": {
        "id": "view-in-github",
        "colab_type": "text"
      },
      "source": [
        "<a href=\"https://colab.research.google.com/github/lin3372/252_ML.tutorial/blob/main/RL/03_Hands_on_RL_Tabular_SARSA_220801.ipynb\" target=\"_parent\"><img src=\"https://colab.research.google.com/assets/colab-badge.svg\" alt=\"Open In Colab\"/></a>"
      ]
    },
    {
      "cell_type": "markdown",
      "metadata": {
        "id": "shDuXa02vOv7"
      },
      "source": [
        "[Hands-On Reinforcement Learning Course: Part 3 - Tabular SARSA](https://towardsdatascience.com/hands-on-reinforcement-learning-course-part-3-5db40e7938d4)\n",
        "\n",
        "by [Pau Labarta Bajo](https://pau-labarta-bajo.medium.com/?source=post_page-----269b50e39d08--------------------------------), Dec 17, 2021.  [[github repo for this lesson]](https://github.com/Paulescu/hands-on-rl)\n",
        "\n",
        "Summarized and Revised by Ivan H.P. Lin"
      ]
    },
    {
      "cell_type": "markdown",
      "metadata": {
        "id": "oSr57Pouv33d"
      },
      "source": [
        "In [part 2](https://towardsdatascience.com/hands-on-reinforcement-learning-course-part-2-1b0828a1046b) , [Ivan's colab](https://colab.research.google.com/drive/1Dn2cWuBFIG1rO8h3d92jSqDFiQW5RvLj?usp=sharing) we implemented discrete Q-learning to train an agent in the Taxi-v3 environment.\n",
        "\n",
        "Today, we are going one step further to solve the MountainCar environment 🚃 using **SARSA** algorithm.\n",
        "\n",
        "All the code for this lesson is in [this Github repo](https://github.com/Paulescu/hands-on-rl). Git clone it to follow along with today’s problem.\n",
        "\n",
        "<img src=\"https://miro.medium.com/max/1050/1*Aef4_9CUysYfv18dulK5uw.jpeg\" width=\"30%\">"
      ]
    },
    {
      "cell_type": "markdown",
      "metadata": {
        "id": "Hjvm2GlHwLk6"
      },
      "source": [
        "# 0. Contents\n",
        "\n",
        "1. The Mountain car problem 🚃\n",
        "2. Environment, actions, states, rewards\n",
        "3. Random agent baseline 🚃🍷\n",
        "4. SARSA agent 🚃🧠\n",
        "5. Take a pause and breath ⏸🧘\n",
        "6. Recap ✨\n",
        "7. Homework 📚\n",
        "8. What’s next? ❤️"
      ]
    },
    {
      "cell_type": "markdown",
      "metadata": {
        "id": "1_7Bw6Y9x4sB"
      },
      "source": [
        "#1.. The Mountain car problem 🚃\n",
        "\n",
        "The Mountain Car problem is an environment where gravity exists and the goal is to help a poor car win the battle against it.\n",
        "\n",
        "The car needs to escape the valley where it got stuck. The car’s engine is not powerful enough to climb up the mountain in a single pass, so the only way to make it is to drive back and forth and build sufficient momentum."
      ]
    },
    {
      "cell_type": "markdown",
      "metadata": {
        "id": "rP4dSbZEyBQp"
      },
      "source": [
        "<figure><center>\n",
        "<img src=\"https://miro.medium.com/max/375/1*Ysl6O2aFOLmZLoyGg2zkMQ.gif\" width=\"30%\"><figcaption>Episode 2</figcaption>\n",
        "<img src=\"https://miro.medium.com/max/375/1*cC5nAn_WU0GYjT9Pvd2g4A.gif\" width=\"30%\"><figcaption>Episode 200</figcaption>\n",
        "</center></figure>\n",
        "\n",
        "The video you just saw corresponds to the SarsaAgent we will build today.\n",
        "\n",
        "\n",
        "\n",
        "\n"
      ]
    },
    {
      "cell_type": "markdown",
      "metadata": {
        "id": "-eAu01ec14CX"
      },
      "source": [
        "### Why this problem?\n",
        "The philosophy of this course is to progressively add complexity. Step-by-step.\n",
        "\n",
        "Today’s environment represents a small but relevant increase in complexity when compared to the ```Taxi-v3``` environment from [part 2(ivan's colab)](https://colab.research.google.com/drive/1Dn2cWuBFIG1rO8h3d92jSqDFiQW5RvLj?usp=sharing).\n",
        "\n",
        "But, what exactly is harder here?\n",
        "\n",
        "As we saw in [part 2(ivan's colab)](https://colab.research.google.com/drive/1Dn2cWuBFIG1rO8h3d92jSqDFiQW5RvLj?usp=sharing), the difficulty of a reinforcement learning problem is directly related to the size of\n",
        "\n",
        "* the **action space**: \n",
        "  - how many actions can the agent choose from at each step?\n",
        "* the **state space**: \n",
        "  - in how many different environment configurations can the agent find itself?\n",
        "\n",
        "For small environments with a finite (and small) number of actions and states, we have strong guarantees that algorithms like **Q-learning** will work well. These are called **tabular** or **discrete environments**.\n",
        "\n",
        "\n",
        "\n",
        "**$Q$-functions**:\n",
        "* essentially matrices with as many ***rows as states*** and ***columns as actions***. \n",
        "  - In these small worlds, our agents can easily explore the states and build effective policies. \n",
        "* As the state space and (especially) the action space becomes larger, the RL problem becomes harder to solve.\n",
        "\n",
        "Today’s environment is NOT tabular. However, we will use a discretization “trick” to transform it into a tabular one, and then solve it.\n",
        "\n",
        "Let’s first get familiar with the environment!"
      ]
    },
    {
      "cell_type": "markdown",
      "metadata": {
        "id": "g0hj0GgeMXS7"
      },
      "source": [
        "#2.. Environment, actions, states, rewards 👉🏽 \n",
        "[notebooks/00_environment.ipynb](https://github.com/Paulescu/hands-on-rl/blob/main/02_mountain_car/notebooks/00_environment.ipynb)\n",
        "\n"
      ]
    },
    {
      "cell_type": "markdown",
      "metadata": {
        "id": "otM6nCBz5zNy"
      },
      "source": [
        "👉Before you solve a Reinforcement Learning problem you need to define what are\n",
        "  - the actions\n",
        "  - the states of the world\n",
        "  - the rewards\n",
        "\n",
        "👉We are using the ```MountainCar-v0``` environment from [OpenAI's gym](https://gym.openai.com/envs/MountainCar-v0/)\n",
        "\n",
        "👉```MountainCar-v0``` is still an easy environment, but harder than ```Taxi-v3```, which we solved in [part 1](https://github.com/Paulescu/hands-on-rl/tree/main/01_taxi) of the course.\n",
        "\n",
        "👉```MountainCar-v0``` is not a tabular environment (i.e. **tabular** = finite number of actions and states), but with a small trick it can become one. This is why I say it is still an easy environment."
      ]
    },
    {
      "cell_type": "markdown",
      "metadata": {
        "id": "Jooa8hBACVxY"
      },
      "source": [
        "### display setup for colab\n",
        "reference stackoverflow - [How to render OpenAI gym in google Colab? ](https://stackoverflow.com/questions/50107530/how-to-render-openai-gym-in-google-colab)"
      ]
    },
    {
      "cell_type": "code",
      "execution_count": 18,
      "metadata": {
        "id": "FrE91jSr9xri"
      },
      "outputs": [],
      "source": [
        "!apt-get install x11-utils > /dev/null 2>&1 \n",
        "!pip install pyglet > /dev/null 2>&1 \n",
        "!apt-get install -y xvfb python-opengl > /dev/null 2>&1"
      ]
    },
    {
      "cell_type": "code",
      "execution_count": 19,
      "metadata": {
        "id": "tcLgsqn_BaQY"
      },
      "outputs": [],
      "source": [
        "!pip install gym pyvirtualdisplay > /dev/null 2>&1"
      ]
    },
    {
      "cell_type": "code",
      "execution_count": 20,
      "metadata": {
        "id": "99aS6NAYBgXZ"
      },
      "outputs": [],
      "source": [
        "# then import all your libraries, including *matplotlib* & *ipythondisplay*:\n",
        "\n",
        "import gym\n",
        "import numpy as np\n",
        "import matplotlib.pyplot as plt\n",
        "from IPython import display as ipythondisplay"
      ]
    },
    {
      "cell_type": "code",
      "execution_count": 21,
      "metadata": {
        "colab": {
          "base_uri": "https://localhost:8080/"
        },
        "id": "zzqB92XfBwEi",
        "outputId": "55004163-efdf-4d8a-8e65-5ab1324557c9"
      },
      "outputs": [
        {
          "output_type": "execute_result",
          "data": {
            "text/plain": [
              "<pyvirtualdisplay.display.Display at 0x7f5ade3ea050>"
            ]
          },
          "metadata": {},
          "execution_count": 21
        }
      ],
      "source": [
        "from pyvirtualdisplay import Display\n",
        "display = Display(visible=0, size=(400, 300))\n",
        "display.start()"
      ]
    },
    {
      "cell_type": "code",
      "execution_count": 22,
      "metadata": {
        "colab": {
          "base_uri": "https://localhost:8080/",
          "height": 357
        },
        "id": "4TAbF_DkB4dh",
        "outputId": "89a7c680-cdf3-4b8a-9df0-64d4eb4010bf"
      },
      "outputs": [
        {
          "output_type": "display_data",
          "data": {
            "text/plain": [
              "<Figure size 432x288 with 1 Axes>"
            ],
            "image/svg+xml": "<?xml version=\"1.0\" encoding=\"utf-8\" standalone=\"no\"?>\n<!DOCTYPE svg PUBLIC \"-//W3C//DTD SVG 1.1//EN\"\n  \"http://www.w3.org/Graphics/SVG/1.1/DTD/svg11.dtd\">\n<!-- Created with matplotlib (https://matplotlib.org/) -->\n<svg height=\"252.045544pt\" version=\"1.1\" viewBox=\"0 0 366.6475 252.045544\" width=\"366.6475pt\" xmlns=\"http://www.w3.org/2000/svg\" xmlns:xlink=\"http://www.w3.org/1999/xlink\">\n <defs>\n  <style type=\"text/css\">\n*{stroke-linecap:butt;stroke-linejoin:round;}\n  </style>\n </defs>\n <g id=\"figure_1\">\n  <g id=\"patch_1\">\n   <path d=\"M 0 252.045544 \nL 366.6475 252.045544 \nL 366.6475 0 \nL 0 0 \nz\n\" style=\"fill:none;\"/>\n  </g>\n  <g id=\"axes_1\">\n   <g id=\"patch_2\">\n    <path d=\"M 33.2875 228.167419 \nL 359.4475 228.167419 \nL 359.4475 10.727419 \nL 33.2875 10.727419 \nz\n\" style=\"fill:#ffffff;\"/>\n   </g>\n   <g clip-path=\"url(#p0bb9c25e52)\">\n    <image height=\"218\" id=\"imageef93ba2009\" transform=\"scale(1 -1)translate(0 -218)\" width=\"327\" x=\"33\" xlink:href=\"data:image/png;base64,\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\" y=\"-10.045544\"/>\n   </g>\n   <g id=\"matplotlib.axis_1\">\n    <g id=\"xtick_1\">\n     <g id=\"line2d_1\">\n      <defs>\n       <path d=\"M 0 0 \nL 0 3.5 \n\" id=\"m4668d00353\" style=\"stroke:#000000;stroke-width:0.8;\"/>\n      </defs>\n      <g>\n       <use style=\"stroke:#000000;stroke-width:0.8;\" x=\"33.5593\" xlink:href=\"#m4668d00353\" y=\"228.167419\"/>\n      </g>\n     </g>\n     <g id=\"text_1\">\n      <!-- 0 -->\n      <defs>\n       <path d=\"M 31.78125 66.40625 \nQ 24.171875 66.40625 20.328125 58.90625 \nQ 16.5 51.421875 16.5 36.375 \nQ 16.5 21.390625 20.328125 13.890625 \nQ 24.171875 6.390625 31.78125 6.390625 \nQ 39.453125 6.390625 43.28125 13.890625 \nQ 47.125 21.390625 47.125 36.375 \nQ 47.125 51.421875 43.28125 58.90625 \nQ 39.453125 66.40625 31.78125 66.40625 \nz\nM 31.78125 74.21875 \nQ 44.046875 74.21875 50.515625 64.515625 \nQ 56.984375 54.828125 56.984375 36.375 \nQ 56.984375 17.96875 50.515625 8.265625 \nQ 44.046875 -1.421875 31.78125 -1.421875 \nQ 19.53125 -1.421875 13.0625 8.265625 \nQ 6.59375 17.96875 6.59375 36.375 \nQ 6.59375 54.828125 13.0625 64.515625 \nQ 19.53125 74.21875 31.78125 74.21875 \nz\n\" id=\"DejaVuSans-48\"/>\n      </defs>\n      <g transform=\"translate(30.37805 242.765856)scale(0.1 -0.1)\">\n       <use xlink:href=\"#DejaVuSans-48\"/>\n      </g>\n     </g>\n    </g>\n    <g id=\"xtick_2\">\n     <g id=\"line2d_2\">\n      <g>\n       <use style=\"stroke:#000000;stroke-width:0.8;\" x=\"87.9193\" xlink:href=\"#m4668d00353\" y=\"228.167419\"/>\n      </g>\n     </g>\n     <g id=\"text_2\">\n      <!-- 100 -->\n      <defs>\n       <path d=\"M 12.40625 8.296875 \nL 28.515625 8.296875 \nL 28.515625 63.921875 \nL 10.984375 60.40625 \nL 10.984375 69.390625 \nL 28.421875 72.90625 \nL 38.28125 72.90625 \nL 38.28125 8.296875 \nL 54.390625 8.296875 \nL 54.390625 0 \nL 12.40625 0 \nz\n\" id=\"DejaVuSans-49\"/>\n      </defs>\n      <g transform=\"translate(78.37555 242.765856)scale(0.1 -0.1)\">\n       <use xlink:href=\"#DejaVuSans-49\"/>\n       <use x=\"63.623047\" xlink:href=\"#DejaVuSans-48\"/>\n       <use x=\"127.246094\" xlink:href=\"#DejaVuSans-48\"/>\n      </g>\n     </g>\n    </g>\n    <g id=\"xtick_3\">\n     <g id=\"line2d_3\">\n      <g>\n       <use style=\"stroke:#000000;stroke-width:0.8;\" x=\"142.2793\" xlink:href=\"#m4668d00353\" y=\"228.167419\"/>\n      </g>\n     </g>\n     <g id=\"text_3\">\n      <!-- 200 -->\n      <defs>\n       <path d=\"M 19.1875 8.296875 \nL 53.609375 8.296875 \nL 53.609375 0 \nL 7.328125 0 \nL 7.328125 8.296875 \nQ 12.9375 14.109375 22.625 23.890625 \nQ 32.328125 33.6875 34.8125 36.53125 \nQ 39.546875 41.84375 41.421875 45.53125 \nQ 43.3125 49.21875 43.3125 52.78125 \nQ 43.3125 58.59375 39.234375 62.25 \nQ 35.15625 65.921875 28.609375 65.921875 \nQ 23.96875 65.921875 18.8125 64.3125 \nQ 13.671875 62.703125 7.8125 59.421875 \nL 7.8125 69.390625 \nQ 13.765625 71.78125 18.9375 73 \nQ 24.125 74.21875 28.421875 74.21875 \nQ 39.75 74.21875 46.484375 68.546875 \nQ 53.21875 62.890625 53.21875 53.421875 \nQ 53.21875 48.921875 51.53125 44.890625 \nQ 49.859375 40.875 45.40625 35.40625 \nQ 44.1875 33.984375 37.640625 27.21875 \nQ 31.109375 20.453125 19.1875 8.296875 \nz\n\" id=\"DejaVuSans-50\"/>\n      </defs>\n      <g transform=\"translate(132.73555 242.765856)scale(0.1 -0.1)\">\n       <use xlink:href=\"#DejaVuSans-50\"/>\n       <use x=\"63.623047\" xlink:href=\"#DejaVuSans-48\"/>\n       <use x=\"127.246094\" xlink:href=\"#DejaVuSans-48\"/>\n      </g>\n     </g>\n    </g>\n    <g id=\"xtick_4\">\n     <g id=\"line2d_4\">\n      <g>\n       <use style=\"stroke:#000000;stroke-width:0.8;\" x=\"196.6393\" xlink:href=\"#m4668d00353\" y=\"228.167419\"/>\n      </g>\n     </g>\n     <g id=\"text_4\">\n      <!-- 300 -->\n      <defs>\n       <path d=\"M 40.578125 39.3125 \nQ 47.65625 37.796875 51.625 33 \nQ 55.609375 28.21875 55.609375 21.1875 \nQ 55.609375 10.40625 48.1875 4.484375 \nQ 40.765625 -1.421875 27.09375 -1.421875 \nQ 22.515625 -1.421875 17.65625 -0.515625 \nQ 12.796875 0.390625 7.625 2.203125 \nL 7.625 11.71875 \nQ 11.71875 9.328125 16.59375 8.109375 \nQ 21.484375 6.890625 26.8125 6.890625 \nQ 36.078125 6.890625 40.9375 10.546875 \nQ 45.796875 14.203125 45.796875 21.1875 \nQ 45.796875 27.640625 41.28125 31.265625 \nQ 36.765625 34.90625 28.71875 34.90625 \nL 20.21875 34.90625 \nL 20.21875 43.015625 \nL 29.109375 43.015625 \nQ 36.375 43.015625 40.234375 45.921875 \nQ 44.09375 48.828125 44.09375 54.296875 \nQ 44.09375 59.90625 40.109375 62.90625 \nQ 36.140625 65.921875 28.71875 65.921875 \nQ 24.65625 65.921875 20.015625 65.03125 \nQ 15.375 64.15625 9.8125 62.3125 \nL 9.8125 71.09375 \nQ 15.4375 72.65625 20.34375 73.4375 \nQ 25.25 74.21875 29.59375 74.21875 \nQ 40.828125 74.21875 47.359375 69.109375 \nQ 53.90625 64.015625 53.90625 55.328125 \nQ 53.90625 49.265625 50.4375 45.09375 \nQ 46.96875 40.921875 40.578125 39.3125 \nz\n\" id=\"DejaVuSans-51\"/>\n      </defs>\n      <g transform=\"translate(187.09555 242.765856)scale(0.1 -0.1)\">\n       <use xlink:href=\"#DejaVuSans-51\"/>\n       <use x=\"63.623047\" xlink:href=\"#DejaVuSans-48\"/>\n       <use x=\"127.246094\" xlink:href=\"#DejaVuSans-48\"/>\n      </g>\n     </g>\n    </g>\n    <g id=\"xtick_5\">\n     <g id=\"line2d_5\">\n      <g>\n       <use style=\"stroke:#000000;stroke-width:0.8;\" x=\"250.9993\" xlink:href=\"#m4668d00353\" y=\"228.167419\"/>\n      </g>\n     </g>\n     <g id=\"text_5\">\n      <!-- 400 -->\n      <defs>\n       <path d=\"M 37.796875 64.3125 \nL 12.890625 25.390625 \nL 37.796875 25.390625 \nz\nM 35.203125 72.90625 \nL 47.609375 72.90625 \nL 47.609375 25.390625 \nL 58.015625 25.390625 \nL 58.015625 17.1875 \nL 47.609375 17.1875 \nL 47.609375 0 \nL 37.796875 0 \nL 37.796875 17.1875 \nL 4.890625 17.1875 \nL 4.890625 26.703125 \nz\n\" id=\"DejaVuSans-52\"/>\n      </defs>\n      <g transform=\"translate(241.45555 242.765856)scale(0.1 -0.1)\">\n       <use xlink:href=\"#DejaVuSans-52\"/>\n       <use x=\"63.623047\" xlink:href=\"#DejaVuSans-48\"/>\n       <use x=\"127.246094\" xlink:href=\"#DejaVuSans-48\"/>\n      </g>\n     </g>\n    </g>\n    <g id=\"xtick_6\">\n     <g id=\"line2d_6\">\n      <g>\n       <use style=\"stroke:#000000;stroke-width:0.8;\" x=\"305.3593\" xlink:href=\"#m4668d00353\" y=\"228.167419\"/>\n      </g>\n     </g>\n     <g id=\"text_6\">\n      <!-- 500 -->\n      <defs>\n       <path d=\"M 10.796875 72.90625 \nL 49.515625 72.90625 \nL 49.515625 64.59375 \nL 19.828125 64.59375 \nL 19.828125 46.734375 \nQ 21.96875 47.46875 24.109375 47.828125 \nQ 26.265625 48.1875 28.421875 48.1875 \nQ 40.625 48.1875 47.75 41.5 \nQ 54.890625 34.8125 54.890625 23.390625 \nQ 54.890625 11.625 47.5625 5.09375 \nQ 40.234375 -1.421875 26.90625 -1.421875 \nQ 22.3125 -1.421875 17.546875 -0.640625 \nQ 12.796875 0.140625 7.71875 1.703125 \nL 7.71875 11.625 \nQ 12.109375 9.234375 16.796875 8.0625 \nQ 21.484375 6.890625 26.703125 6.890625 \nQ 35.15625 6.890625 40.078125 11.328125 \nQ 45.015625 15.765625 45.015625 23.390625 \nQ 45.015625 31 40.078125 35.4375 \nQ 35.15625 39.890625 26.703125 39.890625 \nQ 22.75 39.890625 18.8125 39.015625 \nQ 14.890625 38.140625 10.796875 36.28125 \nz\n\" id=\"DejaVuSans-53\"/>\n      </defs>\n      <g transform=\"translate(295.81555 242.765856)scale(0.1 -0.1)\">\n       <use xlink:href=\"#DejaVuSans-53\"/>\n       <use x=\"63.623047\" xlink:href=\"#DejaVuSans-48\"/>\n       <use x=\"127.246094\" xlink:href=\"#DejaVuSans-48\"/>\n      </g>\n     </g>\n    </g>\n   </g>\n   <g id=\"matplotlib.axis_2\">\n    <g id=\"ytick_1\">\n     <g id=\"line2d_7\">\n      <defs>\n       <path d=\"M 0 0 \nL -3.5 0 \n\" id=\"mbfd5608122\" style=\"stroke:#000000;stroke-width:0.8;\"/>\n      </defs>\n      <g>\n       <use style=\"stroke:#000000;stroke-width:0.8;\" x=\"33.2875\" xlink:href=\"#mbfd5608122\" y=\"10.999219\"/>\n      </g>\n     </g>\n     <g id=\"text_7\">\n      <!-- 0 -->\n      <g transform=\"translate(19.925 14.798438)scale(0.1 -0.1)\">\n       <use xlink:href=\"#DejaVuSans-48\"/>\n      </g>\n     </g>\n    </g>\n    <g id=\"ytick_2\">\n     <g id=\"line2d_8\">\n      <g>\n       <use style=\"stroke:#000000;stroke-width:0.8;\" x=\"33.2875\" xlink:href=\"#mbfd5608122\" y=\"38.179219\"/>\n      </g>\n     </g>\n     <g id=\"text_8\">\n      <!-- 50 -->\n      <g transform=\"translate(13.5625 41.978438)scale(0.1 -0.1)\">\n       <use xlink:href=\"#DejaVuSans-53\"/>\n       <use x=\"63.623047\" xlink:href=\"#DejaVuSans-48\"/>\n      </g>\n     </g>\n    </g>\n    <g id=\"ytick_3\">\n     <g id=\"line2d_9\">\n      <g>\n       <use style=\"stroke:#000000;stroke-width:0.8;\" x=\"33.2875\" xlink:href=\"#mbfd5608122\" y=\"65.359219\"/>\n      </g>\n     </g>\n     <g id=\"text_9\">\n      <!-- 100 -->\n      <g transform=\"translate(7.2 69.158438)scale(0.1 -0.1)\">\n       <use xlink:href=\"#DejaVuSans-49\"/>\n       <use x=\"63.623047\" xlink:href=\"#DejaVuSans-48\"/>\n       <use x=\"127.246094\" xlink:href=\"#DejaVuSans-48\"/>\n      </g>\n     </g>\n    </g>\n    <g id=\"ytick_4\">\n     <g id=\"line2d_10\">\n      <g>\n       <use style=\"stroke:#000000;stroke-width:0.8;\" x=\"33.2875\" xlink:href=\"#mbfd5608122\" y=\"92.539219\"/>\n      </g>\n     </g>\n     <g id=\"text_10\">\n      <!-- 150 -->\n      <g transform=\"translate(7.2 96.338437)scale(0.1 -0.1)\">\n       <use xlink:href=\"#DejaVuSans-49\"/>\n       <use x=\"63.623047\" xlink:href=\"#DejaVuSans-53\"/>\n       <use x=\"127.246094\" xlink:href=\"#DejaVuSans-48\"/>\n      </g>\n     </g>\n    </g>\n    <g id=\"ytick_5\">\n     <g id=\"line2d_11\">\n      <g>\n       <use style=\"stroke:#000000;stroke-width:0.8;\" x=\"33.2875\" xlink:href=\"#mbfd5608122\" y=\"119.719219\"/>\n      </g>\n     </g>\n     <g id=\"text_11\">\n      <!-- 200 -->\n      <g transform=\"translate(7.2 123.518438)scale(0.1 -0.1)\">\n       <use xlink:href=\"#DejaVuSans-50\"/>\n       <use x=\"63.623047\" xlink:href=\"#DejaVuSans-48\"/>\n       <use x=\"127.246094\" xlink:href=\"#DejaVuSans-48\"/>\n      </g>\n     </g>\n    </g>\n    <g id=\"ytick_6\">\n     <g id=\"line2d_12\">\n      <g>\n       <use style=\"stroke:#000000;stroke-width:0.8;\" x=\"33.2875\" xlink:href=\"#mbfd5608122\" y=\"146.899219\"/>\n      </g>\n     </g>\n     <g id=\"text_12\">\n      <!-- 250 -->\n      <g transform=\"translate(7.2 150.698438)scale(0.1 -0.1)\">\n       <use xlink:href=\"#DejaVuSans-50\"/>\n       <use x=\"63.623047\" xlink:href=\"#DejaVuSans-53\"/>\n       <use x=\"127.246094\" xlink:href=\"#DejaVuSans-48\"/>\n      </g>\n     </g>\n    </g>\n    <g id=\"ytick_7\">\n     <g id=\"line2d_13\">\n      <g>\n       <use style=\"stroke:#000000;stroke-width:0.8;\" x=\"33.2875\" xlink:href=\"#mbfd5608122\" y=\"174.079219\"/>\n      </g>\n     </g>\n     <g id=\"text_13\">\n      <!-- 300 -->\n      <g transform=\"translate(7.2 177.878437)scale(0.1 -0.1)\">\n       <use xlink:href=\"#DejaVuSans-51\"/>\n       <use x=\"63.623047\" xlink:href=\"#DejaVuSans-48\"/>\n       <use x=\"127.246094\" xlink:href=\"#DejaVuSans-48\"/>\n      </g>\n     </g>\n    </g>\n    <g id=\"ytick_8\">\n     <g id=\"line2d_14\">\n      <g>\n       <use style=\"stroke:#000000;stroke-width:0.8;\" x=\"33.2875\" xlink:href=\"#mbfd5608122\" y=\"201.259219\"/>\n      </g>\n     </g>\n     <g id=\"text_14\">\n      <!-- 350 -->\n      <g transform=\"translate(7.2 205.058437)scale(0.1 -0.1)\">\n       <use xlink:href=\"#DejaVuSans-51\"/>\n       <use x=\"63.623047\" xlink:href=\"#DejaVuSans-53\"/>\n       <use x=\"127.246094\" xlink:href=\"#DejaVuSans-48\"/>\n      </g>\n     </g>\n    </g>\n   </g>\n   <g id=\"patch_3\">\n    <path d=\"M 33.2875 228.167419 \nL 33.2875 10.727419 \n\" style=\"fill:none;stroke:#000000;stroke-linecap:square;stroke-linejoin:miter;stroke-width:0.8;\"/>\n   </g>\n   <g id=\"patch_4\">\n    <path d=\"M 359.4475 228.167419 \nL 359.4475 10.727419 \n\" style=\"fill:none;stroke:#000000;stroke-linecap:square;stroke-linejoin:miter;stroke-width:0.8;\"/>\n   </g>\n   <g id=\"patch_5\">\n    <path d=\"M 33.2875 228.167419 \nL 359.4475 228.167419 \n\" style=\"fill:none;stroke:#000000;stroke-linecap:square;stroke-linejoin:miter;stroke-width:0.8;\"/>\n   </g>\n   <g id=\"patch_6\">\n    <path d=\"M 33.2875 10.727419 \nL 359.4475 10.727419 \n\" style=\"fill:none;stroke:#000000;stroke-linecap:square;stroke-linejoin:miter;stroke-width:0.8;\"/>\n   </g>\n  </g>\n </g>\n <defs>\n  <clipPath id=\"p0bb9c25e52\">\n   <rect height=\"217.44\" width=\"326.16\" x=\"33.2875\" y=\"10.727419\"/>\n  </clipPath>\n </defs>\n</svg>\n"
          },
          "metadata": {
            "needs_background": "light"
          }
        }
      ],
      "source": [
        "## last but not least, using gym's \"rgb_array\" render functionally, \n",
        "## render to a \"Screen\" variable, then plot the screen variable using Matplotlib! \n",
        "## (rendered indirectly using Ipython display)\n",
        "\n",
        "## Example code for display in colab\n",
        "env = gym.make(\"CartPole-v0\")\n",
        "env.reset()\n",
        "prev_screen = env.render(mode='rgb_array')\n",
        "plt.imshow(prev_screen)\n",
        "\n",
        "for i in range(10):\n",
        "  action = env.action_space.sample()\n",
        "  obs, reward, done, info = env.step(action)\n",
        "  screen = env.render(mode='rgb_array')\n",
        "\n",
        "  plt.imshow(screen)\n",
        "  ipythondisplay.clear_output(wait=True)\n",
        "  ipythondisplay.display(plt.gcf())\n",
        "\n",
        "  if done:\n",
        "    break\n",
        "\n",
        "ipythondisplay.clear_output(wait=True)\n",
        "env.close()"
      ]
    },
    {
      "cell_type": "markdown",
      "metadata": {
        "id": "pAm6NrxwL8MS"
      },
      "source": [
        "### download util files from github"
      ]
    },
    {
      "cell_type": "code",
      "execution_count": 23,
      "metadata": {
        "colab": {
          "base_uri": "https://localhost:8080/"
        },
        "id": "WznjjptIMBdC",
        "outputId": "52362857-979d-4079-f9a8-629353ec3d19"
      },
      "outputs": [
        {
          "output_type": "stream",
          "name": "stdout",
          "text": [
            "--2022-08-01 14:08:55--  https://raw.githubusercontent.com/Paulescu/hands-on-rl/main/02_mountain_car/src/base_agent.py\n",
            "Resolving raw.githubusercontent.com (raw.githubusercontent.com)... 185.199.111.133, 185.199.109.133, 185.199.110.133, ...\n",
            "Connecting to raw.githubusercontent.com (raw.githubusercontent.com)|185.199.111.133|:443... connected.\n",
            "HTTP request sent, awaiting response... 200 OK\n",
            "Length: 706 [text/plain]\n",
            "Saving to: ‘base_agent.py’\n",
            "\n",
            "\rbase_agent.py         0%[                    ]       0  --.-KB/s               \rbase_agent.py       100%[===================>]     706  --.-KB/s    in 0s      \n",
            "\n",
            "2022-08-01 14:08:55 (26.4 MB/s) - ‘base_agent.py’ saved [706/706]\n",
            "\n",
            "--2022-08-01 14:08:55--  https://raw.githubusercontent.com/Paulescu/hands-on-rl/main/02_mountain_car/src/config.py\n",
            "Resolving raw.githubusercontent.com (raw.githubusercontent.com)... 185.199.108.133, 185.199.109.133, 185.199.110.133, ...\n",
            "Connecting to raw.githubusercontent.com (raw.githubusercontent.com)|185.199.108.133|:443... connected.\n",
            "HTTP request sent, awaiting response... 200 OK\n",
            "Length: 225 [text/plain]\n",
            "Saving to: ‘config.py’\n",
            "\n",
            "config.py           100%[===================>]     225  --.-KB/s    in 0s      \n",
            "\n",
            "2022-08-01 14:08:55 (7.53 MB/s) - ‘config.py’ saved [225/225]\n",
            "\n",
            "--2022-08-01 14:08:56--  https://raw.githubusercontent.com/Paulescu/hands-on-rl/main/02_mountain_car/src/loops.py\n",
            "Resolving raw.githubusercontent.com (raw.githubusercontent.com)... 185.199.108.133, 185.199.111.133, 185.199.110.133, ...\n",
            "Connecting to raw.githubusercontent.com (raw.githubusercontent.com)|185.199.108.133|:443... connected.\n",
            "HTTP request sent, awaiting response... 200 OK\n",
            "Length: 2639 (2.6K) [text/plain]\n",
            "Saving to: ‘loops.py’\n",
            "\n",
            "loops.py            100%[===================>]   2.58K  --.-KB/s    in 0s      \n",
            "\n",
            "2022-08-01 14:08:56 (35.2 MB/s) - ‘loops.py’ saved [2639/2639]\n",
            "\n",
            "--2022-08-01 14:08:56--  https://raw.githubusercontent.com/Paulescu/hands-on-rl/main/02_mountain_car/src/momentum_agent.py\n",
            "Resolving raw.githubusercontent.com (raw.githubusercontent.com)... 185.199.108.133, 185.199.109.133, 185.199.110.133, ...\n",
            "Connecting to raw.githubusercontent.com (raw.githubusercontent.com)|185.199.108.133|:443... connected.\n",
            "HTTP request sent, awaiting response... 200 OK\n",
            "Length: 692 [text/plain]\n",
            "Saving to: ‘momentum_agent.py’\n",
            "\n",
            "momentum_agent.py   100%[===================>]     692  --.-KB/s    in 0s      \n",
            "\n",
            "2022-08-01 14:08:56 (22.2 MB/s) - ‘momentum_agent.py’ saved [692/692]\n",
            "\n",
            "--2022-08-01 14:08:56--  https://raw.githubusercontent.com/Paulescu/hands-on-rl/main/02_mountain_car/src/random_agent.py\n",
            "Resolving raw.githubusercontent.com (raw.githubusercontent.com)... 185.199.108.133, 185.199.111.133, 185.199.110.133, ...\n",
            "Connecting to raw.githubusercontent.com (raw.githubusercontent.com)|185.199.108.133|:443... connected.\n",
            "HTTP request sent, awaiting response... 200 OK\n",
            "Length: 583 [text/plain]\n",
            "Saving to: ‘random_agent.py’\n",
            "\n",
            "random_agent.py     100%[===================>]     583  --.-KB/s    in 0s      \n",
            "\n",
            "2022-08-01 14:08:56 (19.9 MB/s) - ‘random_agent.py’ saved [583/583]\n",
            "\n",
            "--2022-08-01 14:08:56--  https://raw.githubusercontent.com/Paulescu/hands-on-rl/main/02_mountain_car/src/sarsa_agent.py\n",
            "Resolving raw.githubusercontent.com (raw.githubusercontent.com)... 185.199.111.133, 185.199.109.133, 185.199.108.133, ...\n",
            "Connecting to raw.githubusercontent.com (raw.githubusercontent.com)|185.199.111.133|:443... connected.\n",
            "HTTP request sent, awaiting response... 200 OK\n",
            "Length: 2047 (2.0K) [text/plain]\n",
            "Saving to: ‘sarsa_agent.py’\n",
            "\n",
            "sarsa_agent.py      100%[===================>]   2.00K  --.-KB/s    in 0s      \n",
            "\n",
            "2022-08-01 14:08:56 (36.3 MB/s) - ‘sarsa_agent.py’ saved [2047/2047]\n",
            "\n",
            "--2022-08-01 14:08:57--  https://raw.githubusercontent.com/Paulescu/hands-on-rl/main/02_mountain_car/src/viz.py\n",
            "Resolving raw.githubusercontent.com (raw.githubusercontent.com)... 185.199.108.133, 185.199.109.133, 185.199.110.133, ...\n",
            "Connecting to raw.githubusercontent.com (raw.githubusercontent.com)|185.199.108.133|:443... connected.\n",
            "HTTP request sent, awaiting response... 200 OK\n",
            "Length: 2542 (2.5K) [text/plain]\n",
            "Saving to: ‘viz.py’\n",
            "\n",
            "viz.py              100%[===================>]   2.48K  --.-KB/s    in 0s      \n",
            "\n",
            "2022-08-01 14:08:57 (27.4 MB/s) - ‘viz.py’ saved [2542/2542]\n",
            "\n"
          ]
        }
      ],
      "source": [
        "import os\n",
        "user = \"Paulescu\"\n",
        "repo = \"hands-on-rl\"\n",
        "src_dir = \"02_mountain_car/src\"\n",
        "pyfiles = [\"base_agent.py\", \"config.py\", \"loops.py\", \"momentum_agent.py\", \"random_agent.py\", \"sarsa_agent.py\", \"viz.py\"]\n",
        "\n",
        "curr_dir=os.getcwd()\n",
        "os.makedirs('src', exist_ok=True)\n",
        "\n",
        "os.chdir('src')\n",
        "\n",
        "for f_rl in pyfiles:\n",
        "  url = f\"https://raw.githubusercontent.com/{user}/{repo}/main/{src_dir}/{f_rl}\"\n",
        "  !wget --no-cache --backups=1 {url}\n",
        "\n",
        "os.chdir(curr_dir)"
      ]
    },
    {
      "cell_type": "markdown",
      "metadata": {
        "id": "WSLINYEM6TDU"
      },
      "source": [
        "## Load the environment 🌎, and Plot it 🎨"
      ]
    },
    {
      "cell_type": "code",
      "execution_count": 24,
      "metadata": {
        "colab": {
          "base_uri": "https://localhost:8080/"
        },
        "id": "VIzdYCr_6W4r",
        "outputId": "078b5e31-fd3c-461e-da70-b54aafbef0ed"
      },
      "outputs": [
        {
          "output_type": "stream",
          "name": "stdout",
          "text": [
            "The autoreload extension is already loaded. To reload it, use:\n",
            "  %reload_ext autoreload\n",
            "Populating the interactive namespace from numpy and matplotlib\n"
          ]
        },
        {
          "output_type": "stream",
          "name": "stderr",
          "text": [
            "/usr/local/lib/python3.7/dist-packages/IPython/core/magics/pylab.py:161: UserWarning: pylab import has clobbered these variables: ['display', 'info']\n",
            "`%matplotlib` prevents importing * from pylab and numpy\n",
            "  \"\\n`%matplotlib` prevents importing * from pylab and numpy\"\n"
          ]
        }
      ],
      "source": [
        "%load_ext autoreload\n",
        "%autoreload 2\n",
        "%pylab inline\n",
        "%config InlineBackend.figure_format = 'svg'\n",
        "\n",
        "from matplotlib import pyplot as plt\n",
        "%matplotlib inline\n",
        "##from IPython import display"
      ]
    },
    {
      "cell_type": "code",
      "execution_count": 25,
      "metadata": {
        "id": "EGP1tzbC6ara"
      },
      "outputs": [],
      "source": [
        "import gym\n",
        "env = gym.make('MountainCar-v0')"
      ]
    },
    {
      "cell_type": "code",
      "execution_count": 26,
      "metadata": {
        "colab": {
          "base_uri": "https://localhost:8080/",
          "height": 245
        },
        "id": "wimm_5os8Drj",
        "outputId": "aae71e42-6908-4a0f-f2f5-0cb3b7610c15"
      },
      "outputs": [
        {
          "output_type": "execute_result",
          "data": {
            "text/plain": [
              "<matplotlib.image.AxesImage at 0x7f5ade460450>"
            ]
          },
          "metadata": {},
          "execution_count": 26
        },
        {
          "output_type": "display_data",
          "data": {
            "text/plain": [
              "<Figure size 288x216 with 1 Axes>"
            ],
            "image/svg+xml": "<?xml version=\"1.0\" encoding=\"utf-8\" standalone=\"no\"?>\n<!DOCTYPE svg PUBLIC \"-//W3C//DTD SVG 1.1//EN\"\n  \"http://www.w3.org/Graphics/SVG/1.1/DTD/svg11.dtd\">\n<!-- Created with matplotlib (https://matplotlib.org/) -->\n<svg height=\"155.078125pt\" version=\"1.1\" viewBox=\"0 0 241.1 155.078125\" width=\"241.1pt\" xmlns=\"http://www.w3.org/2000/svg\" xmlns:xlink=\"http://www.w3.org/1999/xlink\">\n <defs>\n  <style type=\"text/css\">\n*{stroke-linecap:butt;stroke-linejoin:round;}\n  </style>\n </defs>\n <g id=\"figure_1\">\n  <g id=\"patch_1\">\n   <path d=\"M 0 155.078125 \nL 241.1 155.078125 \nL 241.1 0 \nL 0 0 \nz\n\" style=\"fill:none;\"/>\n  </g>\n  <g id=\"axes_1\">\n   <g id=\"patch_2\">\n    <path d=\"M 10.7 131.2 \nL 233.9 131.2 \nL 233.9 7.2 \nL 10.7 7.2 \nz\n\" style=\"fill:#ffffff;\"/>\n   </g>\n   <g clip-path=\"url(#pd09d4a013f)\">\n    <image height=\"124\" id=\"image2487fdf688\" transform=\"scale(1 -1)translate(0 -124)\" width=\"224\" x=\"10.7\" xlink:href=\"data:image/png;base64,\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\" y=\"-7.2\"/>\n   </g>\n   <g id=\"matplotlib.axis_1\">\n    <g id=\"xtick_1\">\n     <g id=\"line2d_1\">\n      <defs>\n       <path d=\"M 0 0 \nL 0 3.5 \n\" id=\"mb868bb31ed\" style=\"stroke:#000000;stroke-width:0.8;\"/>\n      </defs>\n      <g>\n       <use style=\"stroke:#000000;stroke-width:0.8;\" x=\"35.5\" xlink:href=\"#mb868bb31ed\" y=\"131.2\"/>\n      </g>\n     </g>\n     <g id=\"text_1\">\n      <!-- −1.0 -->\n      <defs>\n       <path d=\"M 10.59375 35.5 \nL 73.1875 35.5 \nL 73.1875 27.203125 \nL 10.59375 27.203125 \nz\n\" id=\"DejaVuSans-8722\"/>\n       <path d=\"M 12.40625 8.296875 \nL 28.515625 8.296875 \nL 28.515625 63.921875 \nL 10.984375 60.40625 \nL 10.984375 69.390625 \nL 28.421875 72.90625 \nL 38.28125 72.90625 \nL 38.28125 8.296875 \nL 54.390625 8.296875 \nL 54.390625 0 \nL 12.40625 0 \nz\n\" id=\"DejaVuSans-49\"/>\n       <path d=\"M 10.6875 12.40625 \nL 21 12.40625 \nL 21 0 \nL 10.6875 0 \nz\n\" id=\"DejaVuSans-46\"/>\n       <path d=\"M 31.78125 66.40625 \nQ 24.171875 66.40625 20.328125 58.90625 \nQ 16.5 51.421875 16.5 36.375 \nQ 16.5 21.390625 20.328125 13.890625 \nQ 24.171875 6.390625 31.78125 6.390625 \nQ 39.453125 6.390625 43.28125 13.890625 \nQ 47.125 21.390625 47.125 36.375 \nQ 47.125 51.421875 43.28125 58.90625 \nQ 39.453125 66.40625 31.78125 66.40625 \nz\nM 31.78125 74.21875 \nQ 44.046875 74.21875 50.515625 64.515625 \nQ 56.984375 54.828125 56.984375 36.375 \nQ 56.984375 17.96875 50.515625 8.265625 \nQ 44.046875 -1.421875 31.78125 -1.421875 \nQ 19.53125 -1.421875 13.0625 8.265625 \nQ 6.59375 17.96875 6.59375 36.375 \nQ 6.59375 54.828125 13.0625 64.515625 \nQ 19.53125 74.21875 31.78125 74.21875 \nz\n\" id=\"DejaVuSans-48\"/>\n      </defs>\n      <g transform=\"translate(23.358594 145.798438)scale(0.1 -0.1)\">\n       <use xlink:href=\"#DejaVuSans-8722\"/>\n       <use x=\"83.789062\" xlink:href=\"#DejaVuSans-49\"/>\n       <use x=\"147.412109\" xlink:href=\"#DejaVuSans-46\"/>\n       <use x=\"179.199219\" xlink:href=\"#DejaVuSans-48\"/>\n      </g>\n     </g>\n    </g>\n    <g id=\"xtick_2\">\n     <g id=\"line2d_2\">\n      <g>\n       <use style=\"stroke:#000000;stroke-width:0.8;\" x=\"97.5\" xlink:href=\"#mb868bb31ed\" y=\"131.2\"/>\n      </g>\n     </g>\n     <g id=\"text_2\">\n      <!-- −0.5 -->\n      <defs>\n       <path d=\"M 10.796875 72.90625 \nL 49.515625 72.90625 \nL 49.515625 64.59375 \nL 19.828125 64.59375 \nL 19.828125 46.734375 \nQ 21.96875 47.46875 24.109375 47.828125 \nQ 26.265625 48.1875 28.421875 48.1875 \nQ 40.625 48.1875 47.75 41.5 \nQ 54.890625 34.8125 54.890625 23.390625 \nQ 54.890625 11.625 47.5625 5.09375 \nQ 40.234375 -1.421875 26.90625 -1.421875 \nQ 22.3125 -1.421875 17.546875 -0.640625 \nQ 12.796875 0.140625 7.71875 1.703125 \nL 7.71875 11.625 \nQ 12.109375 9.234375 16.796875 8.0625 \nQ 21.484375 6.890625 26.703125 6.890625 \nQ 35.15625 6.890625 40.078125 11.328125 \nQ 45.015625 15.765625 45.015625 23.390625 \nQ 45.015625 31 40.078125 35.4375 \nQ 35.15625 39.890625 26.703125 39.890625 \nQ 22.75 39.890625 18.8125 39.015625 \nQ 14.890625 38.140625 10.796875 36.28125 \nz\n\" id=\"DejaVuSans-53\"/>\n      </defs>\n      <g transform=\"translate(85.358594 145.798438)scale(0.1 -0.1)\">\n       <use xlink:href=\"#DejaVuSans-8722\"/>\n       <use x=\"83.789062\" xlink:href=\"#DejaVuSans-48\"/>\n       <use x=\"147.412109\" xlink:href=\"#DejaVuSans-46\"/>\n       <use x=\"179.199219\" xlink:href=\"#DejaVuSans-53\"/>\n      </g>\n     </g>\n    </g>\n    <g id=\"xtick_3\">\n     <g id=\"line2d_3\">\n      <g>\n       <use style=\"stroke:#000000;stroke-width:0.8;\" x=\"159.5\" xlink:href=\"#mb868bb31ed\" y=\"131.2\"/>\n      </g>\n     </g>\n     <g id=\"text_3\">\n      <!-- 0.0 -->\n      <g transform=\"translate(151.548438 145.798438)scale(0.1 -0.1)\">\n       <use xlink:href=\"#DejaVuSans-48\"/>\n       <use x=\"63.623047\" xlink:href=\"#DejaVuSans-46\"/>\n       <use x=\"95.410156\" xlink:href=\"#DejaVuSans-48\"/>\n      </g>\n     </g>\n    </g>\n    <g id=\"xtick_4\">\n     <g id=\"line2d_4\">\n      <g>\n       <use style=\"stroke:#000000;stroke-width:0.8;\" x=\"221.5\" xlink:href=\"#mb868bb31ed\" y=\"131.2\"/>\n      </g>\n     </g>\n     <g id=\"text_4\">\n      <!-- 0.5 -->\n      <g transform=\"translate(213.548438 145.798438)scale(0.1 -0.1)\">\n       <use xlink:href=\"#DejaVuSans-48\"/>\n       <use x=\"63.623047\" xlink:href=\"#DejaVuSans-46\"/>\n       <use x=\"95.410156\" xlink:href=\"#DejaVuSans-53\"/>\n      </g>\n     </g>\n    </g>\n   </g>\n   <g id=\"patch_3\">\n    <path d=\"M 10.7 131.2 \nL 10.7 7.2 \n\" style=\"fill:none;stroke:#000000;stroke-linecap:square;stroke-linejoin:miter;stroke-width:0.8;\"/>\n   </g>\n   <g id=\"patch_4\">\n    <path d=\"M 233.9 131.2 \nL 233.9 7.2 \n\" style=\"fill:none;stroke:#000000;stroke-linecap:square;stroke-linejoin:miter;stroke-width:0.8;\"/>\n   </g>\n   <g id=\"patch_5\">\n    <path d=\"M 10.7 131.2 \nL 233.9 131.2 \n\" style=\"fill:none;stroke:#000000;stroke-linecap:square;stroke-linejoin:miter;stroke-width:0.8;\"/>\n   </g>\n   <g id=\"patch_6\">\n    <path d=\"M 10.7 7.2 \nL 233.9 7.2 \n\" style=\"fill:none;stroke:#000000;stroke-linecap:square;stroke-linejoin:miter;stroke-width:0.8;\"/>\n   </g>\n  </g>\n </g>\n <defs>\n  <clipPath id=\"pd09d4a013f\">\n   <rect height=\"124\" width=\"223.2\" x=\"10.7\" y=\"7.2\"/>\n  </clipPath>\n </defs>\n</svg>\n"
          },
          "metadata": {
            "needs_background": "light"
          }
        }
      ],
      "source": [
        "# Workaround for pygame error: \"error: No available video device\"\n",
        "# See https://stackoverflow.com/questions/15933493/pygame-error-no-available-video-device?rq=1\n",
        "# This is probably needed only for Linux\n",
        "import os\n",
        "os.environ[\"SDL_VIDEODRIVER\"] = \"dummy\"\n",
        "env.reset()\n",
        "frame = env.render(mode='rgb_array')\n",
        "\n",
        "fig, ax = plt.subplots(figsize=(4, 3))\n",
        "ax.axes.yaxis.set_visible(False)\n",
        "ax.imshow(frame, extent=[env.min_position, env.max_position, 0, 1])"
      ]
    },
    {
      "cell_type": "markdown",
      "metadata": {
        "id": "dBStOzubC8iH"
      },
      "source": [
        "## **Action space**\n",
        "\n",
        "0. Accelerate to the left\n",
        "1. Do nothing\n",
        "2. Accelerate to the right"
      ]
    },
    {
      "cell_type": "code",
      "execution_count": 27,
      "metadata": {
        "colab": {
          "base_uri": "https://localhost:8080/"
        },
        "id": "a2e37ODyDM8Z",
        "outputId": "d4641068-457d-4519-cc62-4f1ebc01febb"
      },
      "outputs": [
        {
          "output_type": "stream",
          "name": "stdout",
          "text": [
            "Action Space Discrete(3)\n"
          ]
        }
      ],
      "source": [
        "print(\"Action Space {}\".format(env.action_space))"
      ]
    },
    {
      "cell_type": "markdown",
      "metadata": {
        "id": "wW-t3kJiDQAQ"
      },
      "source": [
        "## **State space**\n",
        "\n",
        "Two numbers determine the state of the car:\n",
        "- Its **position**, which ranges $[-1.2, 0.6]$\n",
        "- Its **speed**, which ranges from $[-0.07, 0.07]$.\n",
        "\n",
        "The state is given by 2 continuous numbers. This is a remarkable difference with respect to the ```Taxi-v3``` environment from [part 2](https://colab.research.google.com/drive/1Dn2cWuBFIG1rO8h3d92jSqDFiQW5RvLj?usp=sharing). We will later see how to handle this."
      ]
    },
    {
      "cell_type": "code",
      "execution_count": 28,
      "metadata": {
        "colab": {
          "base_uri": "https://localhost:8080/"
        },
        "id": "7Nrya4ljDS-x",
        "outputId": "8e722c71-0e58-4721-9bef-3b462b5247ab"
      },
      "outputs": [
        {
          "output_type": "stream",
          "name": "stdout",
          "text": [
            "State Space Box(-1.2000000476837158, 0.6000000238418579, (2,), float32)\n",
            "Position ranges from -1.2 to 0.6\n",
            "Velocity ranges from -0.07 to 0.07\n"
          ]
        }
      ],
      "source": [
        "# The state consists of 2 numbers:\n",
        "# - Car's position, from -1.2 to 0.6\n",
        "# - Car's velocity, from -0.07 to 0.07\n",
        "print(\"State Space {}\".format(env.observation_space))\n",
        "\n",
        "print(f'Position ranges from {env.min_position} to {env.max_position}')\n",
        "print(f'Velocity ranges from {-env.max_speed} to {env.max_speed}')"
      ]
    },
    {
      "cell_type": "markdown",
      "metadata": {
        "id": "eHKAo1fnDdRx"
      },
      "source": [
        "## **Rewards**\n",
        "* A reward of $-1$ is awarded if the position of the car is less than $0.5$.\n",
        "\n",
        "* The episode ends once the car's position is above $0.5$, or the max number of steps has been reached: ```n_steps >= env._max_episode_steps```\n",
        "\n",
        "A default negative reward of $-1$ encourages the car to escape the valley as fast as possible.\n",
        "\n",
        "In general, I recommend you check [Open AI Gym environments’](https://github.com/openai/gym/tree/master/gym/envs) implementations directly in Github to understand **states**, **actions**, and **rewards**.\n",
        "\n",
        "The code is well documented and can help you quickly understand everything you need to start working on your RL agents. [```MountainCar‘s``` implementation](https://github.com/openai/gym/blob/master/gym/envs/classic_control/mountain_car.py) is here, for example."
      ]
    },
    {
      "cell_type": "markdown",
      "metadata": {
        "id": "7mct3wyjThF5"
      },
      "source": [
        "# 3.. **Random agent baseline 🚃🍷👉🏽**  \n",
        "[01_random_agent_baseline.ipynb](https://github.com/Paulescu/hands-on-rl/blob/main/02_mountain_car/notebooks/01_random_agent_baseline.ipynb)"
      ]
    },
    {
      "cell_type": "markdown",
      "metadata": {
        "id": "kMO0k65qASIW"
      },
      "source": [
        "👉Before you try to solve a Reinforcement Learning problem you should get a grasp of its difficulty.\n",
        "\n",
        "👉 To do so, you need to design a dummy agent that can peform the task without much brains, and evaluate its performance.\n",
        "\n",
        "👉A simple way to do so is by using a Random Agent, that chooses its next action randomly, without paying attention at the current state of the environment."
      ]
    },
    {
      "cell_type": "markdown",
      "metadata": {
        "id": "kcdq9nu_SAxJ"
      },
      "source": [
        "Reinforcement learning problems can grow in complexity pretty easily. Well-structured code is your best ally to keep complexity under control.\n",
        "\n",
        "Today we are going to level up our Python skills and use a ```BaseAgent class``` for all our agents. From this ```BaseAgent class```, we will derive our ```RandomAgent``` and ```SarsaAgent``` classes.\n",
        "\n",
        "<figure><center>\n",
        "<img src=\"https://miro.medium.com/max/542/1*7cjWWHpyER3WHBzhmoT24Q.png\" width=\"60%\">\n",
        "<figcaption>Parent and child classes (Image by the author)</figcaption>\n",
        "</center></figure>"
      ]
    },
    {
      "cell_type": "markdown",
      "metadata": {
        "id": "11YrF3AeSoj6"
      },
      "source": [
        "## **BaseAgent**- 4 methods \n",
        "```BaseAgent``` is an abstract class we define in ```src/base_agent.py```"
      ]
    },
    {
      "cell_type": "markdown",
      "metadata": {
        "id": "aTQPppr4WEjp"
      },
      "source": [
        "Two of its methods are abstract, which means we are forced to implement them when we derived our ```RandomAgent``` and ```SarsaAgent``` from the ```BaseAgent```:"
      ]
    },
    {
      "cell_type": "markdown",
      "metadata": {
        "id": "WBiy3H2uVVLw"
      },
      "source": [
        "* ```**get_action(self, state)**```\n",
        "  - returns the action to perform, depending on the state.\n",
        "\n",
        "* ```**update_parameters(self, state, action, reward, next_state)**```\n",
        "  - adjusts agent parameters using experience. Here we will implement the **SARSA** formula."
      ]
    },
    {
      "cell_type": "markdown",
      "metadata": {
        "id": "FYkFsDNQV6hA"
      },
      "source": [
        "The other two methods let us save/load the trained agent to/from the disk."
      ]
    },
    {
      "cell_type": "markdown",
      "metadata": {
        "id": "rXlpAW85V9ye"
      },
      "source": [
        "* save_to_disk(self, path)\n",
        "* load_from_disk(cls, path)"
      ]
    },
    {
      "cell_type": "markdown",
      "metadata": {
        "id": "IRB9HVqnWPBn"
      },
      "source": [
        "As we start implementing more complex models and training times increase, it is going to be a great idea to save checkpoints during training."
      ]
    },
    {
      "cell_type": "markdown",
      "metadata": {
        "id": "Vk_uAIVGWbZY"
      },
      "source": [
        "### **```BaseAgent``` class**\n",
        "\n",
        "<img src=\"https://miro.medium.com/max/1050/1*W6OLswy8iqO29x8hgIlNWQ.png\" width=\"50%\">"
      ]
    },
    {
      "cell_type": "markdown",
      "metadata": {
        "id": "HE-VsoptW8sD"
      },
      "source": [
        "### **```BaseAgent class```** ==> **```RandomAgent```**\n",
        "\n",
        "<img src=\"https://miro.medium.com/max/1050/1*NqjFJieCnYBOTPakBKMu3Q.png\" width=\"50%\">\n",
        "\n",
        "Let’s evaluate this **```RandomAgent```** over ***```n_episodes = 100```*** to see how well it fares"
      ]
    },
    {
      "cell_type": "markdown",
      "metadata": {
        "id": "exySs7hcTC1_"
      },
      "source": [
        "## Load the Environment 🌎"
      ]
    },
    {
      "cell_type": "code",
      "execution_count": 29,
      "metadata": {
        "colab": {
          "base_uri": "https://localhost:8080/"
        },
        "id": "5VV8l-3eAyNG",
        "outputId": "528cbfc3-ee4e-4360-9412-4e88772fca11"
      },
      "outputs": [
        {
          "output_type": "stream",
          "name": "stdout",
          "text": [
            "The autoreload extension is already loaded. To reload it, use:\n",
            "  %reload_ext autoreload\n",
            "Populating the interactive namespace from numpy and matplotlib\n"
          ]
        }
      ],
      "source": [
        "%load_ext autoreload\n",
        "%autoreload 2\n",
        "%pylab inline\n",
        "%config InlineBackend.figure_format = 'svg'"
      ]
    },
    {
      "cell_type": "code",
      "execution_count": 30,
      "metadata": {
        "id": "jprQySZYTGCA"
      },
      "outputs": [],
      "source": [
        "import gym\n",
        "env = gym.make('MountainCar-v0')\n",
        "env._max_episode_steps = 1000"
      ]
    },
    {
      "cell_type": "markdown",
      "metadata": {
        "id": "UjFXG8E9LHxL"
      },
      "source": [
        "## **Random agent 🤖🍷**"
      ]
    },
    {
      "cell_type": "code",
      "execution_count": 31,
      "metadata": {
        "colab": {
          "base_uri": "https://localhost:8080/"
        },
        "id": "nPPaLDdLLMOD",
        "outputId": "31621c06-e714-4025-c90f-ec750942c880"
      },
      "outputs": [
        {
          "output_type": "stream",
          "name": "stderr",
          "text": [
            "100%|██████████| 100/100 [00:08<00:00, 11.53it/s]\n"
          ]
        }
      ],
      "source": [
        "# If this import fails, run this in your shell and relaunch jupyter:\n",
        "# `export PYTHONPATH=\"..\"`\n",
        "from src.random_agent import RandomAgent\n",
        "agent = RandomAgent(env)\n",
        "\n",
        "from src.loops import evaluate\n",
        "n_episodes = 100\n",
        "rewards, max_positions = evaluate(agent, env, n_episodes)"
      ]
    },
    {
      "cell_type": "markdown",
      "metadata": {
        "id": "9lK0kuuZLTsk"
      },
      "source": [
        "### Success rate is... bad, let's see how far we got in each attempt"
      ]
    },
    {
      "cell_type": "code",
      "execution_count": 32,
      "metadata": {
        "colab": {
          "base_uri": "https://localhost:8080/",
          "height": 300
        },
        "id": "47SZP_VtNqOU",
        "outputId": "7c86e026-86d9-450a-f6f6-86593a0bba4a"
      },
      "outputs": [
        {
          "output_type": "display_data",
          "data": {
            "text/plain": [
              "<Figure size 432x216 with 1 Axes>"
            ],
            "image/svg+xml": "<?xml version=\"1.0\" encoding=\"utf-8\" standalone=\"no\"?>\n<!DOCTYPE svg PUBLIC \"-//W3C//DTD SVG 1.1//EN\"\n  \"http://www.w3.org/Graphics/SVG/1.1/DTD/svg11.dtd\">\n<!-- Created with matplotlib (https://matplotlib.org/) -->\n<svg height=\"209.27625pt\" version=\"1.1\" viewBox=\"0 0 376.240625 209.27625\" width=\"376.240625pt\" xmlns=\"http://www.w3.org/2000/svg\" xmlns:xlink=\"http://www.w3.org/1999/xlink\">\n <defs>\n  <style type=\"text/css\">\n*{stroke-linecap:butt;stroke-linejoin:round;}\n  </style>\n </defs>\n <g id=\"figure_1\">\n  <g id=\"patch_1\">\n   <path d=\"M 0 209.27625 \nL 376.240625 209.27625 \nL 376.240625 0 \nL 0 0 \nz\n\" style=\"fill:none;\"/>\n  </g>\n  <g id=\"axes_1\">\n   <g id=\"patch_2\">\n    <path d=\"M 34.240625 185.398125 \nL 369.040625 185.398125 \nL 369.040625 22.318125 \nL 34.240625 22.318125 \nz\n\" style=\"fill:#ffffff;\"/>\n   </g>\n   <g id=\"patch_3\">\n    <path clip-path=\"url(#pe760413d77)\" d=\"M 58.085933 185.398125 \nL 60.125162 185.398125 \nL 60.125162 159.512411 \nL 58.085933 159.512411 \nz\n\" style=\"fill:#1f77b4;\"/>\n   </g>\n   <g id=\"patch_4\">\n    <path clip-path=\"url(#pe760413d77)\" d=\"M 60.125162 185.398125 \nL 62.164392 185.398125 \nL 62.164392 185.398125 \nL 60.125162 185.398125 \nz\n\" style=\"fill:#1f77b4;\"/>\n   </g>\n   <g id=\"patch_5\">\n    <path clip-path=\"url(#pe760413d77)\" d=\"M 62.164392 185.398125 \nL 64.203622 185.398125 \nL 64.203622 159.512411 \nL 62.164392 159.512411 \nz\n\" style=\"fill:#1f77b4;\"/>\n   </g>\n   <g id=\"patch_6\">\n    <path clip-path=\"url(#pe760413d77)\" d=\"M 64.203622 185.398125 \nL 66.242852 185.398125 \nL 66.242852 185.398125 \nL 64.203622 185.398125 \nz\n\" style=\"fill:#1f77b4;\"/>\n   </g>\n   <g id=\"patch_7\">\n    <path clip-path=\"url(#pe760413d77)\" d=\"M 66.242852 185.398125 \nL 68.282081 185.398125 \nL 68.282081 185.398125 \nL 66.242852 185.398125 \nz\n\" style=\"fill:#1f77b4;\"/>\n   </g>\n   <g id=\"patch_8\">\n    <path clip-path=\"url(#pe760413d77)\" d=\"M 68.282081 185.398125 \nL 70.321311 185.398125 \nL 70.321311 133.626696 \nL 68.282081 133.626696 \nz\n\" style=\"fill:#1f77b4;\"/>\n   </g>\n   <g id=\"patch_9\">\n    <path clip-path=\"url(#pe760413d77)\" d=\"M 70.321311 185.398125 \nL 72.360541 185.398125 \nL 72.360541 159.512411 \nL 70.321311 159.512411 \nz\n\" style=\"fill:#1f77b4;\"/>\n   </g>\n   <g id=\"patch_10\">\n    <path clip-path=\"url(#pe760413d77)\" d=\"M 72.360541 185.398125 \nL 74.399771 185.398125 \nL 74.399771 185.398125 \nL 72.360541 185.398125 \nz\n\" style=\"fill:#1f77b4;\"/>\n   </g>\n   <g id=\"patch_11\">\n    <path clip-path=\"url(#pe760413d77)\" d=\"M 74.399771 185.398125 \nL 76.439001 185.398125 \nL 76.439001 133.626696 \nL 74.399771 133.626696 \nz\n\" style=\"fill:#1f77b4;\"/>\n   </g>\n   <g id=\"patch_12\">\n    <path clip-path=\"url(#pe760413d77)\" d=\"M 76.439001 185.398125 \nL 78.47823 185.398125 \nL 78.47823 159.512411 \nL 76.439001 159.512411 \nz\n\" style=\"fill:#1f77b4;\"/>\n   </g>\n   <g id=\"patch_13\">\n    <path clip-path=\"url(#pe760413d77)\" d=\"M 78.47823 185.398125 \nL 80.51746 185.398125 \nL 80.51746 133.626696 \nL 78.47823 133.626696 \nz\n\" style=\"fill:#1f77b4;\"/>\n   </g>\n   <g id=\"patch_14\">\n    <path clip-path=\"url(#pe760413d77)\" d=\"M 80.51746 185.398125 \nL 82.55669 185.398125 \nL 82.55669 133.626696 \nL 80.51746 133.626696 \nz\n\" style=\"fill:#1f77b4;\"/>\n   </g>\n   <g id=\"patch_15\">\n    <path clip-path=\"url(#pe760413d77)\" d=\"M 82.55669 185.398125 \nL 84.59592 185.398125 \nL 84.59592 133.626696 \nL 82.55669 133.626696 \nz\n\" style=\"fill:#1f77b4;\"/>\n   </g>\n   <g id=\"patch_16\">\n    <path clip-path=\"url(#pe760413d77)\" d=\"M 84.59592 185.398125 \nL 86.635149 185.398125 \nL 86.635149 159.512411 \nL 84.59592 159.512411 \nz\n\" style=\"fill:#1f77b4;\"/>\n   </g>\n   <g id=\"patch_17\">\n    <path clip-path=\"url(#pe760413d77)\" d=\"M 86.635149 185.398125 \nL 88.674379 185.398125 \nL 88.674379 159.512411 \nL 86.635149 159.512411 \nz\n\" style=\"fill:#1f77b4;\"/>\n   </g>\n   <g id=\"patch_18\">\n    <path clip-path=\"url(#pe760413d77)\" d=\"M 88.674379 185.398125 \nL 90.713609 185.398125 \nL 90.713609 133.626696 \nL 88.674379 133.626696 \nz\n\" style=\"fill:#1f77b4;\"/>\n   </g>\n   <g id=\"patch_19\">\n    <path clip-path=\"url(#pe760413d77)\" d=\"M 90.713609 185.398125 \nL 92.752839 185.398125 \nL 92.752839 159.512411 \nL 90.713609 159.512411 \nz\n\" style=\"fill:#1f77b4;\"/>\n   </g>\n   <g id=\"patch_20\">\n    <path clip-path=\"url(#pe760413d77)\" d=\"M 92.752839 185.398125 \nL 94.792069 185.398125 \nL 94.792069 81.855268 \nL 92.752839 81.855268 \nz\n\" style=\"fill:#1f77b4;\"/>\n   </g>\n   <g id=\"patch_21\">\n    <path clip-path=\"url(#pe760413d77)\" d=\"M 94.792069 185.398125 \nL 96.831298 185.398125 \nL 96.831298 133.626696 \nL 94.792069 133.626696 \nz\n\" style=\"fill:#1f77b4;\"/>\n   </g>\n   <g id=\"patch_22\">\n    <path clip-path=\"url(#pe760413d77)\" d=\"M 96.831298 185.398125 \nL 98.870528 185.398125 \nL 98.870528 30.083839 \nL 96.831298 30.083839 \nz\n\" style=\"fill:#1f77b4;\"/>\n   </g>\n   <g id=\"patch_23\">\n    <path clip-path=\"url(#pe760413d77)\" d=\"M 98.870528 185.398125 \nL 100.909758 185.398125 \nL 100.909758 185.398125 \nL 98.870528 185.398125 \nz\n\" style=\"fill:#1f77b4;\"/>\n   </g>\n   <g id=\"patch_24\">\n    <path clip-path=\"url(#pe760413d77)\" d=\"M 100.909758 185.398125 \nL 102.948988 185.398125 \nL 102.948988 107.740982 \nL 100.909758 107.740982 \nz\n\" style=\"fill:#1f77b4;\"/>\n   </g>\n   <g id=\"patch_25\">\n    <path clip-path=\"url(#pe760413d77)\" d=\"M 102.948988 185.398125 \nL 104.988218 185.398125 \nL 104.988218 159.512411 \nL 102.948988 159.512411 \nz\n\" style=\"fill:#1f77b4;\"/>\n   </g>\n   <g id=\"patch_26\">\n    <path clip-path=\"url(#pe760413d77)\" d=\"M 104.988218 185.398125 \nL 107.027447 185.398125 \nL 107.027447 133.626696 \nL 104.988218 133.626696 \nz\n\" style=\"fill:#1f77b4;\"/>\n   </g>\n   <g id=\"patch_27\">\n    <path clip-path=\"url(#pe760413d77)\" d=\"M 107.027447 185.398125 \nL 109.066677 185.398125 \nL 109.066677 107.740982 \nL 107.027447 107.740982 \nz\n\" style=\"fill:#1f77b4;\"/>\n   </g>\n   <g id=\"patch_28\">\n    <path clip-path=\"url(#pe760413d77)\" d=\"M 109.066677 185.398125 \nL 111.105907 185.398125 \nL 111.105907 81.855268 \nL 109.066677 81.855268 \nz\n\" style=\"fill:#1f77b4;\"/>\n   </g>\n   <g id=\"patch_29\">\n    <path clip-path=\"url(#pe760413d77)\" d=\"M 111.105907 185.398125 \nL 113.145137 185.398125 \nL 113.145137 133.626696 \nL 111.105907 133.626696 \nz\n\" style=\"fill:#1f77b4;\"/>\n   </g>\n   <g id=\"patch_30\">\n    <path clip-path=\"url(#pe760413d77)\" d=\"M 113.145137 185.398125 \nL 115.184366 185.398125 \nL 115.184366 81.855268 \nL 113.145137 81.855268 \nz\n\" style=\"fill:#1f77b4;\"/>\n   </g>\n   <g id=\"patch_31\">\n    <path clip-path=\"url(#pe760413d77)\" d=\"M 115.184366 185.398125 \nL 117.223596 185.398125 \nL 117.223596 185.398125 \nL 115.184366 185.398125 \nz\n\" style=\"fill:#1f77b4;\"/>\n   </g>\n   <g id=\"patch_32\">\n    <path clip-path=\"url(#pe760413d77)\" d=\"M 117.223596 185.398125 \nL 119.262826 185.398125 \nL 119.262826 81.855268 \nL 117.223596 81.855268 \nz\n\" style=\"fill:#1f77b4;\"/>\n   </g>\n   <g id=\"patch_33\">\n    <path clip-path=\"url(#pe760413d77)\" d=\"M 119.262826 185.398125 \nL 121.302056 185.398125 \nL 121.302056 133.626696 \nL 119.262826 133.626696 \nz\n\" style=\"fill:#1f77b4;\"/>\n   </g>\n   <g id=\"patch_34\">\n    <path clip-path=\"url(#pe760413d77)\" d=\"M 121.302056 185.398125 \nL 123.341286 185.398125 \nL 123.341286 133.626696 \nL 121.302056 133.626696 \nz\n\" style=\"fill:#1f77b4;\"/>\n   </g>\n   <g id=\"patch_35\">\n    <path clip-path=\"url(#pe760413d77)\" d=\"M 123.341286 185.398125 \nL 125.380515 185.398125 \nL 125.380515 133.626696 \nL 123.341286 133.626696 \nz\n\" style=\"fill:#1f77b4;\"/>\n   </g>\n   <g id=\"patch_36\">\n    <path clip-path=\"url(#pe760413d77)\" d=\"M 125.380515 185.398125 \nL 127.419745 185.398125 \nL 127.419745 133.626696 \nL 125.380515 133.626696 \nz\n\" style=\"fill:#1f77b4;\"/>\n   </g>\n   <g id=\"patch_37\">\n    <path clip-path=\"url(#pe760413d77)\" d=\"M 127.419745 185.398125 \nL 129.458975 185.398125 \nL 129.458975 185.398125 \nL 127.419745 185.398125 \nz\n\" style=\"fill:#1f77b4;\"/>\n   </g>\n   <g id=\"patch_38\">\n    <path clip-path=\"url(#pe760413d77)\" d=\"M 129.458975 185.398125 \nL 131.498205 185.398125 \nL 131.498205 107.740982 \nL 129.458975 107.740982 \nz\n\" style=\"fill:#1f77b4;\"/>\n   </g>\n   <g id=\"patch_39\">\n    <path clip-path=\"url(#pe760413d77)\" d=\"M 131.498205 185.398125 \nL 133.537435 185.398125 \nL 133.537435 133.626696 \nL 131.498205 133.626696 \nz\n\" style=\"fill:#1f77b4;\"/>\n   </g>\n   <g id=\"patch_40\">\n    <path clip-path=\"url(#pe760413d77)\" d=\"M 133.537435 185.398125 \nL 135.576664 185.398125 \nL 135.576664 107.740982 \nL 133.537435 107.740982 \nz\n\" style=\"fill:#1f77b4;\"/>\n   </g>\n   <g id=\"patch_41\">\n    <path clip-path=\"url(#pe760413d77)\" d=\"M 135.576664 185.398125 \nL 137.615894 185.398125 \nL 137.615894 133.626696 \nL 135.576664 133.626696 \nz\n\" style=\"fill:#1f77b4;\"/>\n   </g>\n   <g id=\"patch_42\">\n    <path clip-path=\"url(#pe760413d77)\" d=\"M 137.615894 185.398125 \nL 139.655124 185.398125 \nL 139.655124 159.512411 \nL 137.615894 159.512411 \nz\n\" style=\"fill:#1f77b4;\"/>\n   </g>\n   <g id=\"patch_43\">\n    <path clip-path=\"url(#pe760413d77)\" d=\"M 139.655124 185.398125 \nL 141.694354 185.398125 \nL 141.694354 185.398125 \nL 139.655124 185.398125 \nz\n\" style=\"fill:#1f77b4;\"/>\n   </g>\n   <g id=\"patch_44\">\n    <path clip-path=\"url(#pe760413d77)\" d=\"M 141.694354 185.398125 \nL 143.733583 185.398125 \nL 143.733583 159.512411 \nL 141.694354 159.512411 \nz\n\" style=\"fill:#1f77b4;\"/>\n   </g>\n   <g id=\"patch_45\">\n    <path clip-path=\"url(#pe760413d77)\" d=\"M 143.733583 185.398125 \nL 145.772813 185.398125 \nL 145.772813 159.512411 \nL 143.733583 159.512411 \nz\n\" style=\"fill:#1f77b4;\"/>\n   </g>\n   <g id=\"patch_46\">\n    <path clip-path=\"url(#pe760413d77)\" d=\"M 145.772813 185.398125 \nL 147.812043 185.398125 \nL 147.812043 159.512411 \nL 145.772813 159.512411 \nz\n\" style=\"fill:#1f77b4;\"/>\n   </g>\n   <g id=\"patch_47\">\n    <path clip-path=\"url(#pe760413d77)\" d=\"M 147.812043 185.398125 \nL 149.851273 185.398125 \nL 149.851273 107.740982 \nL 147.812043 107.740982 \nz\n\" style=\"fill:#1f77b4;\"/>\n   </g>\n   <g id=\"patch_48\">\n    <path clip-path=\"url(#pe760413d77)\" d=\"M 149.851273 185.398125 \nL 151.890503 185.398125 \nL 151.890503 159.512411 \nL 149.851273 159.512411 \nz\n\" style=\"fill:#1f77b4;\"/>\n   </g>\n   <g id=\"patch_49\">\n    <path clip-path=\"url(#pe760413d77)\" d=\"M 151.890503 185.398125 \nL 153.929732 185.398125 \nL 153.929732 133.626696 \nL 151.890503 133.626696 \nz\n\" style=\"fill:#1f77b4;\"/>\n   </g>\n   <g id=\"patch_50\">\n    <path clip-path=\"url(#pe760413d77)\" d=\"M 153.929732 185.398125 \nL 155.968962 185.398125 \nL 155.968962 159.512411 \nL 153.929732 159.512411 \nz\n\" style=\"fill:#1f77b4;\"/>\n   </g>\n   <g id=\"patch_51\">\n    <path clip-path=\"url(#pe760413d77)\" d=\"M 155.968962 185.398125 \nL 158.008192 185.398125 \nL 158.008192 159.512411 \nL 155.968962 159.512411 \nz\n\" style=\"fill:#1f77b4;\"/>\n   </g>\n   <g id=\"patch_52\">\n    <path clip-path=\"url(#pe760413d77)\" d=\"M 158.008192 185.398125 \nL 160.047422 185.398125 \nL 160.047422 159.512411 \nL 158.008192 159.512411 \nz\n\" style=\"fill:#1f77b4;\"/>\n   </g>\n   <g id=\"patch_53\">\n    <path clip-path=\"url(#pe760413d77)\" d=\"M 160.047422 185.398125 \nL 162.086652 185.398125 \nL 162.086652 159.512411 \nL 160.047422 159.512411 \nz\n\" style=\"fill:#1f77b4;\"/>\n   </g>\n   <g id=\"patch_54\">\n    <path clip-path=\"url(#pe760413d77)\" d=\"M 162.086652 185.398125 \nL 164.125881 185.398125 \nL 164.125881 133.626696 \nL 162.086652 133.626696 \nz\n\" style=\"fill:#1f77b4;\"/>\n   </g>\n   <g id=\"patch_55\">\n    <path clip-path=\"url(#pe760413d77)\" d=\"M 164.125881 185.398125 \nL 166.165111 185.398125 \nL 166.165111 159.512411 \nL 164.125881 159.512411 \nz\n\" style=\"fill:#1f77b4;\"/>\n   </g>\n   <g id=\"patch_56\">\n    <path clip-path=\"url(#pe760413d77)\" d=\"M 166.165111 185.398125 \nL 168.204341 185.398125 \nL 168.204341 185.398125 \nL 166.165111 185.398125 \nz\n\" style=\"fill:#1f77b4;\"/>\n   </g>\n   <g id=\"patch_57\">\n    <path clip-path=\"url(#pe760413d77)\" d=\"M 168.204341 185.398125 \nL 170.243571 185.398125 \nL 170.243571 185.398125 \nL 168.204341 185.398125 \nz\n\" style=\"fill:#1f77b4;\"/>\n   </g>\n   <g id=\"patch_58\">\n    <path clip-path=\"url(#pe760413d77)\" d=\"M 170.243571 185.398125 \nL 172.2828 185.398125 \nL 172.2828 159.512411 \nL 170.243571 159.512411 \nz\n\" style=\"fill:#1f77b4;\"/>\n   </g>\n   <g id=\"patch_59\">\n    <path clip-path=\"url(#pe760413d77)\" d=\"M 172.2828 185.398125 \nL 174.32203 185.398125 \nL 174.32203 159.512411 \nL 172.2828 159.512411 \nz\n\" style=\"fill:#1f77b4;\"/>\n   </g>\n   <g id=\"patch_60\">\n    <path clip-path=\"url(#pe760413d77)\" d=\"M 174.32203 185.398125 \nL 176.36126 185.398125 \nL 176.36126 185.398125 \nL 174.32203 185.398125 \nz\n\" style=\"fill:#1f77b4;\"/>\n   </g>\n   <g id=\"patch_61\">\n    <path clip-path=\"url(#pe760413d77)\" d=\"M 176.36126 185.398125 \nL 178.40049 185.398125 \nL 178.40049 185.398125 \nL 176.36126 185.398125 \nz\n\" style=\"fill:#1f77b4;\"/>\n   </g>\n   <g id=\"patch_62\">\n    <path clip-path=\"url(#pe760413d77)\" d=\"M 178.40049 185.398125 \nL 180.43972 185.398125 \nL 180.43972 133.626696 \nL 178.40049 133.626696 \nz\n\" style=\"fill:#1f77b4;\"/>\n   </g>\n   <g id=\"patch_63\">\n    <path clip-path=\"url(#pe760413d77)\" d=\"M 180.43972 185.398125 \nL 182.478949 185.398125 \nL 182.478949 159.512411 \nL 180.43972 159.512411 \nz\n\" style=\"fill:#1f77b4;\"/>\n   </g>\n   <g id=\"patch_64\">\n    <path clip-path=\"url(#pe760413d77)\" d=\"M 182.478949 185.398125 \nL 184.518179 185.398125 \nL 184.518179 159.512411 \nL 182.478949 159.512411 \nz\n\" style=\"fill:#1f77b4;\"/>\n   </g>\n   <g id=\"patch_65\">\n    <path clip-path=\"url(#pe760413d77)\" d=\"M 184.518179 185.398125 \nL 186.557409 185.398125 \nL 186.557409 185.398125 \nL 184.518179 185.398125 \nz\n\" style=\"fill:#1f77b4;\"/>\n   </g>\n   <g id=\"patch_66\">\n    <path clip-path=\"url(#pe760413d77)\" d=\"M 186.557409 185.398125 \nL 188.596639 185.398125 \nL 188.596639 185.398125 \nL 186.557409 185.398125 \nz\n\" style=\"fill:#1f77b4;\"/>\n   </g>\n   <g id=\"patch_67\">\n    <path clip-path=\"url(#pe760413d77)\" d=\"M 188.596639 185.398125 \nL 190.635868 185.398125 \nL 190.635868 185.398125 \nL 188.596639 185.398125 \nz\n\" style=\"fill:#1f77b4;\"/>\n   </g>\n   <g id=\"patch_68\">\n    <path clip-path=\"url(#pe760413d77)\" d=\"M 190.635868 185.398125 \nL 192.675098 185.398125 \nL 192.675098 185.398125 \nL 190.635868 185.398125 \nz\n\" style=\"fill:#1f77b4;\"/>\n   </g>\n   <g id=\"patch_69\">\n    <path clip-path=\"url(#pe760413d77)\" d=\"M 192.675098 185.398125 \nL 194.714328 185.398125 \nL 194.714328 185.398125 \nL 192.675098 185.398125 \nz\n\" style=\"fill:#1f77b4;\"/>\n   </g>\n   <g id=\"patch_70\">\n    <path clip-path=\"url(#pe760413d77)\" d=\"M 194.714328 185.398125 \nL 196.753558 185.398125 \nL 196.753558 185.398125 \nL 194.714328 185.398125 \nz\n\" style=\"fill:#1f77b4;\"/>\n   </g>\n   <g id=\"patch_71\">\n    <path clip-path=\"url(#pe760413d77)\" d=\"M 196.753558 185.398125 \nL 198.792788 185.398125 \nL 198.792788 185.398125 \nL 196.753558 185.398125 \nz\n\" style=\"fill:#1f77b4;\"/>\n   </g>\n   <g id=\"patch_72\">\n    <path clip-path=\"url(#pe760413d77)\" d=\"M 198.792788 185.398125 \nL 200.832017 185.398125 \nL 200.832017 185.398125 \nL 198.792788 185.398125 \nz\n\" style=\"fill:#1f77b4;\"/>\n   </g>\n   <g id=\"patch_73\">\n    <path clip-path=\"url(#pe760413d77)\" d=\"M 200.832017 185.398125 \nL 202.871247 185.398125 \nL 202.871247 185.398125 \nL 200.832017 185.398125 \nz\n\" style=\"fill:#1f77b4;\"/>\n   </g>\n   <g id=\"patch_74\">\n    <path clip-path=\"url(#pe760413d77)\" d=\"M 202.871247 185.398125 \nL 204.910477 185.398125 \nL 204.910477 185.398125 \nL 202.871247 185.398125 \nz\n\" style=\"fill:#1f77b4;\"/>\n   </g>\n   <g id=\"patch_75\">\n    <path clip-path=\"url(#pe760413d77)\" d=\"M 204.910477 185.398125 \nL 206.949707 185.398125 \nL 206.949707 185.398125 \nL 204.910477 185.398125 \nz\n\" style=\"fill:#1f77b4;\"/>\n   </g>\n   <g id=\"patch_76\">\n    <path clip-path=\"url(#pe760413d77)\" d=\"M 206.949707 185.398125 \nL 208.988937 185.398125 \nL 208.988937 185.398125 \nL 206.949707 185.398125 \nz\n\" style=\"fill:#1f77b4;\"/>\n   </g>\n   <g id=\"patch_77\">\n    <path clip-path=\"url(#pe760413d77)\" d=\"M 208.988937 185.398125 \nL 211.028166 185.398125 \nL 211.028166 185.398125 \nL 208.988937 185.398125 \nz\n\" style=\"fill:#1f77b4;\"/>\n   </g>\n   <g id=\"patch_78\">\n    <path clip-path=\"url(#pe760413d77)\" d=\"M 211.028166 185.398125 \nL 213.067396 185.398125 \nL 213.067396 159.512411 \nL 211.028166 159.512411 \nz\n\" style=\"fill:#1f77b4;\"/>\n   </g>\n   <g id=\"patch_79\">\n    <path clip-path=\"url(#pe760413d77)\" d=\"M 213.067396 185.398125 \nL 215.106626 185.398125 \nL 215.106626 185.398125 \nL 213.067396 185.398125 \nz\n\" style=\"fill:#1f77b4;\"/>\n   </g>\n   <g id=\"patch_80\">\n    <path clip-path=\"url(#pe760413d77)\" d=\"M 215.106626 185.398125 \nL 217.145856 185.398125 \nL 217.145856 185.398125 \nL 215.106626 185.398125 \nz\n\" style=\"fill:#1f77b4;\"/>\n   </g>\n   <g id=\"patch_81\">\n    <path clip-path=\"url(#pe760413d77)\" d=\"M 217.145856 185.398125 \nL 219.185085 185.398125 \nL 219.185085 185.398125 \nL 217.145856 185.398125 \nz\n\" style=\"fill:#1f77b4;\"/>\n   </g>\n   <g id=\"patch_82\">\n    <path clip-path=\"url(#pe760413d77)\" d=\"M 219.185085 185.398125 \nL 221.224315 185.398125 \nL 221.224315 185.398125 \nL 219.185085 185.398125 \nz\n\" style=\"fill:#1f77b4;\"/>\n   </g>\n   <g id=\"patch_83\">\n    <path clip-path=\"url(#pe760413d77)\" d=\"M 221.224315 185.398125 \nL 223.263545 185.398125 \nL 223.263545 185.398125 \nL 221.224315 185.398125 \nz\n\" style=\"fill:#1f77b4;\"/>\n   </g>\n   <g id=\"patch_84\">\n    <path clip-path=\"url(#pe760413d77)\" d=\"M 223.263545 185.398125 \nL 225.302775 185.398125 \nL 225.302775 133.626696 \nL 223.263545 133.626696 \nz\n\" style=\"fill:#1f77b4;\"/>\n   </g>\n   <g id=\"patch_85\">\n    <path clip-path=\"url(#pe760413d77)\" d=\"M 225.302775 185.398125 \nL 227.342005 185.398125 \nL 227.342005 159.512411 \nL 225.302775 159.512411 \nz\n\" style=\"fill:#1f77b4;\"/>\n   </g>\n   <g id=\"patch_86\">\n    <path clip-path=\"url(#pe760413d77)\" d=\"M 227.342005 185.398125 \nL 229.381234 185.398125 \nL 229.381234 185.398125 \nL 227.342005 185.398125 \nz\n\" style=\"fill:#1f77b4;\"/>\n   </g>\n   <g id=\"patch_87\">\n    <path clip-path=\"url(#pe760413d77)\" d=\"M 229.381234 185.398125 \nL 231.420464 185.398125 \nL 231.420464 185.398125 \nL 229.381234 185.398125 \nz\n\" style=\"fill:#1f77b4;\"/>\n   </g>\n   <g id=\"patch_88\">\n    <path clip-path=\"url(#pe760413d77)\" d=\"M 231.420464 185.398125 \nL 233.459694 185.398125 \nL 233.459694 185.398125 \nL 231.420464 185.398125 \nz\n\" style=\"fill:#1f77b4;\"/>\n   </g>\n   <g id=\"patch_89\">\n    <path clip-path=\"url(#pe760413d77)\" d=\"M 233.459694 185.398125 \nL 235.498924 185.398125 \nL 235.498924 185.398125 \nL 233.459694 185.398125 \nz\n\" style=\"fill:#1f77b4;\"/>\n   </g>\n   <g id=\"patch_90\">\n    <path clip-path=\"url(#pe760413d77)\" d=\"M 235.498924 185.398125 \nL 237.538154 185.398125 \nL 237.538154 185.398125 \nL 235.498924 185.398125 \nz\n\" style=\"fill:#1f77b4;\"/>\n   </g>\n   <g id=\"patch_91\">\n    <path clip-path=\"url(#pe760413d77)\" d=\"M 237.538154 185.398125 \nL 239.577383 185.398125 \nL 239.577383 185.398125 \nL 237.538154 185.398125 \nz\n\" style=\"fill:#1f77b4;\"/>\n   </g>\n   <g id=\"patch_92\">\n    <path clip-path=\"url(#pe760413d77)\" d=\"M 239.577383 185.398125 \nL 241.616613 185.398125 \nL 241.616613 185.398125 \nL 239.577383 185.398125 \nz\n\" style=\"fill:#1f77b4;\"/>\n   </g>\n   <g id=\"patch_93\">\n    <path clip-path=\"url(#pe760413d77)\" d=\"M 241.616613 185.398125 \nL 243.655843 185.398125 \nL 243.655843 185.398125 \nL 241.616613 185.398125 \nz\n\" style=\"fill:#1f77b4;\"/>\n   </g>\n   <g id=\"patch_94\">\n    <path clip-path=\"url(#pe760413d77)\" d=\"M 243.655843 185.398125 \nL 245.695073 185.398125 \nL 245.695073 185.398125 \nL 243.655843 185.398125 \nz\n\" style=\"fill:#1f77b4;\"/>\n   </g>\n   <g id=\"patch_95\">\n    <path clip-path=\"url(#pe760413d77)\" d=\"M 245.695073 185.398125 \nL 247.734302 185.398125 \nL 247.734302 185.398125 \nL 245.695073 185.398125 \nz\n\" style=\"fill:#1f77b4;\"/>\n   </g>\n   <g id=\"patch_96\">\n    <path clip-path=\"url(#pe760413d77)\" d=\"M 247.734302 185.398125 \nL 249.773532 185.398125 \nL 249.773532 185.398125 \nL 247.734302 185.398125 \nz\n\" style=\"fill:#1f77b4;\"/>\n   </g>\n   <g id=\"patch_97\">\n    <path clip-path=\"url(#pe760413d77)\" d=\"M 249.773532 185.398125 \nL 251.812762 185.398125 \nL 251.812762 185.398125 \nL 249.773532 185.398125 \nz\n\" style=\"fill:#1f77b4;\"/>\n   </g>\n   <g id=\"patch_98\">\n    <path clip-path=\"url(#pe760413d77)\" d=\"M 251.812762 185.398125 \nL 253.851992 185.398125 \nL 253.851992 185.398125 \nL 251.812762 185.398125 \nz\n\" style=\"fill:#1f77b4;\"/>\n   </g>\n   <g id=\"patch_99\">\n    <path clip-path=\"url(#pe760413d77)\" d=\"M 253.851992 185.398125 \nL 255.891222 185.398125 \nL 255.891222 185.398125 \nL 253.851992 185.398125 \nz\n\" style=\"fill:#1f77b4;\"/>\n   </g>\n   <g id=\"patch_100\">\n    <path clip-path=\"url(#pe760413d77)\" d=\"M 255.891222 185.398125 \nL 257.930451 185.398125 \nL 257.930451 185.398125 \nL 255.891222 185.398125 \nz\n\" style=\"fill:#1f77b4;\"/>\n   </g>\n   <g id=\"patch_101\">\n    <path clip-path=\"url(#pe760413d77)\" d=\"M 257.930451 185.398125 \nL 259.969681 185.398125 \nL 259.969681 185.398125 \nL 257.930451 185.398125 \nz\n\" style=\"fill:#1f77b4;\"/>\n   </g>\n   <g id=\"patch_102\">\n    <path clip-path=\"url(#pe760413d77)\" d=\"M 259.969681 185.398125 \nL 262.008911 185.398125 \nL 262.008911 159.512411 \nL 259.969681 159.512411 \nz\n\" style=\"fill:#1f77b4;\"/>\n   </g>\n   <g id=\"matplotlib.axis_1\">\n    <g id=\"xtick_1\">\n     <g id=\"line2d_1\">\n      <defs>\n       <path d=\"M 0 0 \nL 0 3.5 \n\" id=\"mc1c66e351c\" style=\"stroke:#000000;stroke-width:0.8;\"/>\n      </defs>\n      <g>\n       <use style=\"stroke:#000000;stroke-width:0.8;\" x=\"34.240625\" xlink:href=\"#mc1c66e351c\" y=\"185.398125\"/>\n      </g>\n     </g>\n     <g id=\"text_1\">\n      <!-- −0.5 -->\n      <defs>\n       <path d=\"M 10.59375 35.5 \nL 73.1875 35.5 \nL 73.1875 27.203125 \nL 10.59375 27.203125 \nz\n\" id=\"DejaVuSans-8722\"/>\n       <path d=\"M 31.78125 66.40625 \nQ 24.171875 66.40625 20.328125 58.90625 \nQ 16.5 51.421875 16.5 36.375 \nQ 16.5 21.390625 20.328125 13.890625 \nQ 24.171875 6.390625 31.78125 6.390625 \nQ 39.453125 6.390625 43.28125 13.890625 \nQ 47.125 21.390625 47.125 36.375 \nQ 47.125 51.421875 43.28125 58.90625 \nQ 39.453125 66.40625 31.78125 66.40625 \nz\nM 31.78125 74.21875 \nQ 44.046875 74.21875 50.515625 64.515625 \nQ 56.984375 54.828125 56.984375 36.375 \nQ 56.984375 17.96875 50.515625 8.265625 \nQ 44.046875 -1.421875 31.78125 -1.421875 \nQ 19.53125 -1.421875 13.0625 8.265625 \nQ 6.59375 17.96875 6.59375 36.375 \nQ 6.59375 54.828125 13.0625 64.515625 \nQ 19.53125 74.21875 31.78125 74.21875 \nz\n\" id=\"DejaVuSans-48\"/>\n       <path d=\"M 10.6875 12.40625 \nL 21 12.40625 \nL 21 0 \nL 10.6875 0 \nz\n\" id=\"DejaVuSans-46\"/>\n       <path d=\"M 10.796875 72.90625 \nL 49.515625 72.90625 \nL 49.515625 64.59375 \nL 19.828125 64.59375 \nL 19.828125 46.734375 \nQ 21.96875 47.46875 24.109375 47.828125 \nQ 26.265625 48.1875 28.421875 48.1875 \nQ 40.625 48.1875 47.75 41.5 \nQ 54.890625 34.8125 54.890625 23.390625 \nQ 54.890625 11.625 47.5625 5.09375 \nQ 40.234375 -1.421875 26.90625 -1.421875 \nQ 22.3125 -1.421875 17.546875 -0.640625 \nQ 12.796875 0.140625 7.71875 1.703125 \nL 7.71875 11.625 \nQ 12.109375 9.234375 16.796875 8.0625 \nQ 21.484375 6.890625 26.703125 6.890625 \nQ 35.15625 6.890625 40.078125 11.328125 \nQ 45.015625 15.765625 45.015625 23.390625 \nQ 45.015625 31 40.078125 35.4375 \nQ 35.15625 39.890625 26.703125 39.890625 \nQ 22.75 39.890625 18.8125 39.015625 \nQ 14.890625 38.140625 10.796875 36.28125 \nz\n\" id=\"DejaVuSans-53\"/>\n      </defs>\n      <g transform=\"translate(22.099219 199.996563)scale(0.1 -0.1)\">\n       <use xlink:href=\"#DejaVuSans-8722\"/>\n       <use x=\"83.789062\" xlink:href=\"#DejaVuSans-48\"/>\n       <use x=\"147.412109\" xlink:href=\"#DejaVuSans-46\"/>\n       <use x=\"179.199219\" xlink:href=\"#DejaVuSans-53\"/>\n      </g>\n     </g>\n    </g>\n    <g id=\"xtick_2\">\n     <g id=\"line2d_2\">\n      <g>\n       <use style=\"stroke:#000000;stroke-width:0.8;\" x=\"64.676989\" xlink:href=\"#mc1c66e351c\" y=\"185.398125\"/>\n      </g>\n     </g>\n     <g id=\"text_2\">\n      <!-- −0.4 -->\n      <defs>\n       <path d=\"M 37.796875 64.3125 \nL 12.890625 25.390625 \nL 37.796875 25.390625 \nz\nM 35.203125 72.90625 \nL 47.609375 72.90625 \nL 47.609375 25.390625 \nL 58.015625 25.390625 \nL 58.015625 17.1875 \nL 47.609375 17.1875 \nL 47.609375 0 \nL 37.796875 0 \nL 37.796875 17.1875 \nL 4.890625 17.1875 \nL 4.890625 26.703125 \nz\n\" id=\"DejaVuSans-52\"/>\n      </defs>\n      <g transform=\"translate(52.535582 199.996563)scale(0.1 -0.1)\">\n       <use xlink:href=\"#DejaVuSans-8722\"/>\n       <use x=\"83.789062\" xlink:href=\"#DejaVuSans-48\"/>\n       <use x=\"147.412109\" xlink:href=\"#DejaVuSans-46\"/>\n       <use x=\"179.199219\" xlink:href=\"#DejaVuSans-52\"/>\n      </g>\n     </g>\n    </g>\n    <g id=\"xtick_3\">\n     <g id=\"line2d_3\">\n      <g>\n       <use style=\"stroke:#000000;stroke-width:0.8;\" x=\"95.113352\" xlink:href=\"#mc1c66e351c\" y=\"185.398125\"/>\n      </g>\n     </g>\n     <g id=\"text_3\">\n      <!-- −0.3 -->\n      <defs>\n       <path d=\"M 40.578125 39.3125 \nQ 47.65625 37.796875 51.625 33 \nQ 55.609375 28.21875 55.609375 21.1875 \nQ 55.609375 10.40625 48.1875 4.484375 \nQ 40.765625 -1.421875 27.09375 -1.421875 \nQ 22.515625 -1.421875 17.65625 -0.515625 \nQ 12.796875 0.390625 7.625 2.203125 \nL 7.625 11.71875 \nQ 11.71875 9.328125 16.59375 8.109375 \nQ 21.484375 6.890625 26.8125 6.890625 \nQ 36.078125 6.890625 40.9375 10.546875 \nQ 45.796875 14.203125 45.796875 21.1875 \nQ 45.796875 27.640625 41.28125 31.265625 \nQ 36.765625 34.90625 28.71875 34.90625 \nL 20.21875 34.90625 \nL 20.21875 43.015625 \nL 29.109375 43.015625 \nQ 36.375 43.015625 40.234375 45.921875 \nQ 44.09375 48.828125 44.09375 54.296875 \nQ 44.09375 59.90625 40.109375 62.90625 \nQ 36.140625 65.921875 28.71875 65.921875 \nQ 24.65625 65.921875 20.015625 65.03125 \nQ 15.375 64.15625 9.8125 62.3125 \nL 9.8125 71.09375 \nQ 15.4375 72.65625 20.34375 73.4375 \nQ 25.25 74.21875 29.59375 74.21875 \nQ 40.828125 74.21875 47.359375 69.109375 \nQ 53.90625 64.015625 53.90625 55.328125 \nQ 53.90625 49.265625 50.4375 45.09375 \nQ 46.96875 40.921875 40.578125 39.3125 \nz\n\" id=\"DejaVuSans-51\"/>\n      </defs>\n      <g transform=\"translate(82.971946 199.996563)scale(0.1 -0.1)\">\n       <use xlink:href=\"#DejaVuSans-8722\"/>\n       <use x=\"83.789062\" xlink:href=\"#DejaVuSans-48\"/>\n       <use x=\"147.412109\" xlink:href=\"#DejaVuSans-46\"/>\n       <use x=\"179.199219\" xlink:href=\"#DejaVuSans-51\"/>\n      </g>\n     </g>\n    </g>\n    <g id=\"xtick_4\">\n     <g id=\"line2d_4\">\n      <g>\n       <use style=\"stroke:#000000;stroke-width:0.8;\" x=\"125.549716\" xlink:href=\"#mc1c66e351c\" y=\"185.398125\"/>\n      </g>\n     </g>\n     <g id=\"text_4\">\n      <!-- −0.2 -->\n      <defs>\n       <path d=\"M 19.1875 8.296875 \nL 53.609375 8.296875 \nL 53.609375 0 \nL 7.328125 0 \nL 7.328125 8.296875 \nQ 12.9375 14.109375 22.625 23.890625 \nQ 32.328125 33.6875 34.8125 36.53125 \nQ 39.546875 41.84375 41.421875 45.53125 \nQ 43.3125 49.21875 43.3125 52.78125 \nQ 43.3125 58.59375 39.234375 62.25 \nQ 35.15625 65.921875 28.609375 65.921875 \nQ 23.96875 65.921875 18.8125 64.3125 \nQ 13.671875 62.703125 7.8125 59.421875 \nL 7.8125 69.390625 \nQ 13.765625 71.78125 18.9375 73 \nQ 24.125 74.21875 28.421875 74.21875 \nQ 39.75 74.21875 46.484375 68.546875 \nQ 53.21875 62.890625 53.21875 53.421875 \nQ 53.21875 48.921875 51.53125 44.890625 \nQ 49.859375 40.875 45.40625 35.40625 \nQ 44.1875 33.984375 37.640625 27.21875 \nQ 31.109375 20.453125 19.1875 8.296875 \nz\n\" id=\"DejaVuSans-50\"/>\n      </defs>\n      <g transform=\"translate(113.40831 199.996563)scale(0.1 -0.1)\">\n       <use xlink:href=\"#DejaVuSans-8722\"/>\n       <use x=\"83.789062\" xlink:href=\"#DejaVuSans-48\"/>\n       <use x=\"147.412109\" xlink:href=\"#DejaVuSans-46\"/>\n       <use x=\"179.199219\" xlink:href=\"#DejaVuSans-50\"/>\n      </g>\n     </g>\n    </g>\n    <g id=\"xtick_5\">\n     <g id=\"line2d_5\">\n      <g>\n       <use style=\"stroke:#000000;stroke-width:0.8;\" x=\"155.98608\" xlink:href=\"#mc1c66e351c\" y=\"185.398125\"/>\n      </g>\n     </g>\n     <g id=\"text_5\">\n      <!-- −0.1 -->\n      <defs>\n       <path d=\"M 12.40625 8.296875 \nL 28.515625 8.296875 \nL 28.515625 63.921875 \nL 10.984375 60.40625 \nL 10.984375 69.390625 \nL 28.421875 72.90625 \nL 38.28125 72.90625 \nL 38.28125 8.296875 \nL 54.390625 8.296875 \nL 54.390625 0 \nL 12.40625 0 \nz\n\" id=\"DejaVuSans-49\"/>\n      </defs>\n      <g transform=\"translate(143.844673 199.996563)scale(0.1 -0.1)\">\n       <use xlink:href=\"#DejaVuSans-8722\"/>\n       <use x=\"83.789062\" xlink:href=\"#DejaVuSans-48\"/>\n       <use x=\"147.412109\" xlink:href=\"#DejaVuSans-46\"/>\n       <use x=\"179.199219\" xlink:href=\"#DejaVuSans-49\"/>\n      </g>\n     </g>\n    </g>\n    <g id=\"xtick_6\">\n     <g id=\"line2d_6\">\n      <g>\n       <use style=\"stroke:#000000;stroke-width:0.8;\" x=\"186.422443\" xlink:href=\"#mc1c66e351c\" y=\"185.398125\"/>\n      </g>\n     </g>\n     <g id=\"text_6\">\n      <!-- 0.0 -->\n      <g transform=\"translate(178.470881 199.996563)scale(0.1 -0.1)\">\n       <use xlink:href=\"#DejaVuSans-48\"/>\n       <use x=\"63.623047\" xlink:href=\"#DejaVuSans-46\"/>\n       <use x=\"95.410156\" xlink:href=\"#DejaVuSans-48\"/>\n      </g>\n     </g>\n    </g>\n    <g id=\"xtick_7\">\n     <g id=\"line2d_7\">\n      <g>\n       <use style=\"stroke:#000000;stroke-width:0.8;\" x=\"216.858807\" xlink:href=\"#mc1c66e351c\" y=\"185.398125\"/>\n      </g>\n     </g>\n     <g id=\"text_7\">\n      <!-- 0.1 -->\n      <g transform=\"translate(208.907244 199.996563)scale(0.1 -0.1)\">\n       <use xlink:href=\"#DejaVuSans-48\"/>\n       <use x=\"63.623047\" xlink:href=\"#DejaVuSans-46\"/>\n       <use x=\"95.410156\" xlink:href=\"#DejaVuSans-49\"/>\n      </g>\n     </g>\n    </g>\n    <g id=\"xtick_8\">\n     <g id=\"line2d_8\">\n      <g>\n       <use style=\"stroke:#000000;stroke-width:0.8;\" x=\"247.29517\" xlink:href=\"#mc1c66e351c\" y=\"185.398125\"/>\n      </g>\n     </g>\n     <g id=\"text_8\">\n      <!-- 0.2 -->\n      <g transform=\"translate(239.343608 199.996563)scale(0.1 -0.1)\">\n       <use xlink:href=\"#DejaVuSans-48\"/>\n       <use x=\"63.623047\" xlink:href=\"#DejaVuSans-46\"/>\n       <use x=\"95.410156\" xlink:href=\"#DejaVuSans-50\"/>\n      </g>\n     </g>\n    </g>\n    <g id=\"xtick_9\">\n     <g id=\"line2d_9\">\n      <g>\n       <use style=\"stroke:#000000;stroke-width:0.8;\" x=\"277.731534\" xlink:href=\"#mc1c66e351c\" y=\"185.398125\"/>\n      </g>\n     </g>\n     <g id=\"text_9\">\n      <!-- 0.3 -->\n      <g transform=\"translate(269.779972 199.996563)scale(0.1 -0.1)\">\n       <use xlink:href=\"#DejaVuSans-48\"/>\n       <use x=\"63.623047\" xlink:href=\"#DejaVuSans-46\"/>\n       <use x=\"95.410156\" xlink:href=\"#DejaVuSans-51\"/>\n      </g>\n     </g>\n    </g>\n    <g id=\"xtick_10\">\n     <g id=\"line2d_10\">\n      <g>\n       <use style=\"stroke:#000000;stroke-width:0.8;\" x=\"308.167898\" xlink:href=\"#mc1c66e351c\" y=\"185.398125\"/>\n      </g>\n     </g>\n     <g id=\"text_10\">\n      <!-- 0.4 -->\n      <g transform=\"translate(300.216335 199.996563)scale(0.1 -0.1)\">\n       <use xlink:href=\"#DejaVuSans-48\"/>\n       <use x=\"63.623047\" xlink:href=\"#DejaVuSans-46\"/>\n       <use x=\"95.410156\" xlink:href=\"#DejaVuSans-52\"/>\n      </g>\n     </g>\n    </g>\n    <g id=\"xtick_11\">\n     <g id=\"line2d_11\">\n      <g>\n       <use style=\"stroke:#000000;stroke-width:0.8;\" x=\"338.604261\" xlink:href=\"#mc1c66e351c\" y=\"185.398125\"/>\n      </g>\n     </g>\n     <g id=\"text_11\">\n      <!-- 0.5 -->\n      <g transform=\"translate(330.652699 199.996563)scale(0.1 -0.1)\">\n       <use xlink:href=\"#DejaVuSans-48\"/>\n       <use x=\"63.623047\" xlink:href=\"#DejaVuSans-46\"/>\n       <use x=\"95.410156\" xlink:href=\"#DejaVuSans-53\"/>\n      </g>\n     </g>\n    </g>\n   </g>\n   <g id=\"matplotlib.axis_2\">\n    <g id=\"ytick_1\">\n     <g id=\"line2d_12\">\n      <defs>\n       <path d=\"M 0 0 \nL -3.5 0 \n\" id=\"mf52931f703\" style=\"stroke:#000000;stroke-width:0.8;\"/>\n      </defs>\n      <g>\n       <use style=\"stroke:#000000;stroke-width:0.8;\" x=\"34.240625\" xlink:href=\"#mf52931f703\" y=\"185.398125\"/>\n      </g>\n     </g>\n     <g id=\"text_12\">\n      <!-- 0 -->\n      <g transform=\"translate(20.878125 189.197344)scale(0.1 -0.1)\">\n       <use xlink:href=\"#DejaVuSans-48\"/>\n      </g>\n     </g>\n    </g>\n    <g id=\"ytick_2\">\n     <g id=\"line2d_13\">\n      <g>\n       <use style=\"stroke:#000000;stroke-width:0.8;\" x=\"34.240625\" xlink:href=\"#mf52931f703\" y=\"159.512411\"/>\n      </g>\n     </g>\n     <g id=\"text_13\">\n      <!-- 1 -->\n      <g transform=\"translate(20.878125 163.311629)scale(0.1 -0.1)\">\n       <use xlink:href=\"#DejaVuSans-49\"/>\n      </g>\n     </g>\n    </g>\n    <g id=\"ytick_3\">\n     <g id=\"line2d_14\">\n      <g>\n       <use style=\"stroke:#000000;stroke-width:0.8;\" x=\"34.240625\" xlink:href=\"#mf52931f703\" y=\"133.626696\"/>\n      </g>\n     </g>\n     <g id=\"text_14\">\n      <!-- 2 -->\n      <g transform=\"translate(20.878125 137.425915)scale(0.1 -0.1)\">\n       <use xlink:href=\"#DejaVuSans-50\"/>\n      </g>\n     </g>\n    </g>\n    <g id=\"ytick_4\">\n     <g id=\"line2d_15\">\n      <g>\n       <use style=\"stroke:#000000;stroke-width:0.8;\" x=\"34.240625\" xlink:href=\"#mf52931f703\" y=\"107.740982\"/>\n      </g>\n     </g>\n     <g id=\"text_15\">\n      <!-- 3 -->\n      <g transform=\"translate(20.878125 111.540201)scale(0.1 -0.1)\">\n       <use xlink:href=\"#DejaVuSans-51\"/>\n      </g>\n     </g>\n    </g>\n    <g id=\"ytick_5\">\n     <g id=\"line2d_16\">\n      <g>\n       <use style=\"stroke:#000000;stroke-width:0.8;\" x=\"34.240625\" xlink:href=\"#mf52931f703\" y=\"81.855268\"/>\n      </g>\n     </g>\n     <g id=\"text_16\">\n      <!-- 4 -->\n      <g transform=\"translate(20.878125 85.654487)scale(0.1 -0.1)\">\n       <use xlink:href=\"#DejaVuSans-52\"/>\n      </g>\n     </g>\n    </g>\n    <g id=\"ytick_6\">\n     <g id=\"line2d_17\">\n      <g>\n       <use style=\"stroke:#000000;stroke-width:0.8;\" x=\"34.240625\" xlink:href=\"#mf52931f703\" y=\"55.969554\"/>\n      </g>\n     </g>\n     <g id=\"text_17\">\n      <!-- 5 -->\n      <g transform=\"translate(20.878125 59.768772)scale(0.1 -0.1)\">\n       <use xlink:href=\"#DejaVuSans-53\"/>\n      </g>\n     </g>\n    </g>\n    <g id=\"ytick_7\">\n     <g id=\"line2d_18\">\n      <g>\n       <use style=\"stroke:#000000;stroke-width:0.8;\" x=\"34.240625\" xlink:href=\"#mf52931f703\" y=\"30.083839\"/>\n      </g>\n     </g>\n     <g id=\"text_18\">\n      <!-- 6 -->\n      <defs>\n       <path d=\"M 33.015625 40.375 \nQ 26.375 40.375 22.484375 35.828125 \nQ 18.609375 31.296875 18.609375 23.390625 \nQ 18.609375 15.53125 22.484375 10.953125 \nQ 26.375 6.390625 33.015625 6.390625 \nQ 39.65625 6.390625 43.53125 10.953125 \nQ 47.40625 15.53125 47.40625 23.390625 \nQ 47.40625 31.296875 43.53125 35.828125 \nQ 39.65625 40.375 33.015625 40.375 \nz\nM 52.59375 71.296875 \nL 52.59375 62.3125 \nQ 48.875 64.0625 45.09375 64.984375 \nQ 41.3125 65.921875 37.59375 65.921875 \nQ 27.828125 65.921875 22.671875 59.328125 \nQ 17.53125 52.734375 16.796875 39.40625 \nQ 19.671875 43.65625 24.015625 45.921875 \nQ 28.375 48.1875 33.59375 48.1875 \nQ 44.578125 48.1875 50.953125 41.515625 \nQ 57.328125 34.859375 57.328125 23.390625 \nQ 57.328125 12.15625 50.6875 5.359375 \nQ 44.046875 -1.421875 33.015625 -1.421875 \nQ 20.359375 -1.421875 13.671875 8.265625 \nQ 6.984375 17.96875 6.984375 36.375 \nQ 6.984375 53.65625 15.1875 63.9375 \nQ 23.390625 74.21875 37.203125 74.21875 \nQ 40.921875 74.21875 44.703125 73.484375 \nQ 48.484375 72.75 52.59375 71.296875 \nz\n\" id=\"DejaVuSans-54\"/>\n      </defs>\n      <g transform=\"translate(20.878125 33.883058)scale(0.1 -0.1)\">\n       <use xlink:href=\"#DejaVuSans-54\"/>\n      </g>\n     </g>\n    </g>\n    <g id=\"text_19\">\n     <!-- Frequency -->\n     <defs>\n      <path d=\"M 9.8125 72.90625 \nL 51.703125 72.90625 \nL 51.703125 64.59375 \nL 19.671875 64.59375 \nL 19.671875 43.109375 \nL 48.578125 43.109375 \nL 48.578125 34.8125 \nL 19.671875 34.8125 \nL 19.671875 0 \nL 9.8125 0 \nz\n\" id=\"DejaVuSans-70\"/>\n      <path d=\"M 41.109375 46.296875 \nQ 39.59375 47.171875 37.8125 47.578125 \nQ 36.03125 48 33.890625 48 \nQ 26.265625 48 22.1875 43.046875 \nQ 18.109375 38.09375 18.109375 28.8125 \nL 18.109375 0 \nL 9.078125 0 \nL 9.078125 54.6875 \nL 18.109375 54.6875 \nL 18.109375 46.1875 \nQ 20.953125 51.171875 25.484375 53.578125 \nQ 30.03125 56 36.53125 56 \nQ 37.453125 56 38.578125 55.875 \nQ 39.703125 55.765625 41.0625 55.515625 \nz\n\" id=\"DejaVuSans-114\"/>\n      <path d=\"M 56.203125 29.59375 \nL 56.203125 25.203125 \nL 14.890625 25.203125 \nQ 15.484375 15.921875 20.484375 11.0625 \nQ 25.484375 6.203125 34.421875 6.203125 \nQ 39.59375 6.203125 44.453125 7.46875 \nQ 49.3125 8.734375 54.109375 11.28125 \nL 54.109375 2.78125 \nQ 49.265625 0.734375 44.1875 -0.34375 \nQ 39.109375 -1.421875 33.890625 -1.421875 \nQ 20.796875 -1.421875 13.15625 6.1875 \nQ 5.515625 13.8125 5.515625 26.8125 \nQ 5.515625 40.234375 12.765625 48.109375 \nQ 20.015625 56 32.328125 56 \nQ 43.359375 56 49.78125 48.890625 \nQ 56.203125 41.796875 56.203125 29.59375 \nz\nM 47.21875 32.234375 \nQ 47.125 39.59375 43.09375 43.984375 \nQ 39.0625 48.390625 32.421875 48.390625 \nQ 24.90625 48.390625 20.390625 44.140625 \nQ 15.875 39.890625 15.1875 32.171875 \nz\n\" id=\"DejaVuSans-101\"/>\n      <path d=\"M 14.796875 27.296875 \nQ 14.796875 17.390625 18.875 11.75 \nQ 22.953125 6.109375 30.078125 6.109375 \nQ 37.203125 6.109375 41.296875 11.75 \nQ 45.40625 17.390625 45.40625 27.296875 \nQ 45.40625 37.203125 41.296875 42.84375 \nQ 37.203125 48.484375 30.078125 48.484375 \nQ 22.953125 48.484375 18.875 42.84375 \nQ 14.796875 37.203125 14.796875 27.296875 \nz\nM 45.40625 8.203125 \nQ 42.578125 3.328125 38.25 0.953125 \nQ 33.9375 -1.421875 27.875 -1.421875 \nQ 17.96875 -1.421875 11.734375 6.484375 \nQ 5.515625 14.40625 5.515625 27.296875 \nQ 5.515625 40.1875 11.734375 48.09375 \nQ 17.96875 56 27.875 56 \nQ 33.9375 56 38.25 53.625 \nQ 42.578125 51.265625 45.40625 46.390625 \nL 45.40625 54.6875 \nL 54.390625 54.6875 \nL 54.390625 -20.796875 \nL 45.40625 -20.796875 \nz\n\" id=\"DejaVuSans-113\"/>\n      <path d=\"M 8.5 21.578125 \nL 8.5 54.6875 \nL 17.484375 54.6875 \nL 17.484375 21.921875 \nQ 17.484375 14.15625 20.5 10.265625 \nQ 23.53125 6.390625 29.59375 6.390625 \nQ 36.859375 6.390625 41.078125 11.03125 \nQ 45.3125 15.671875 45.3125 23.6875 \nL 45.3125 54.6875 \nL 54.296875 54.6875 \nL 54.296875 0 \nL 45.3125 0 \nL 45.3125 8.40625 \nQ 42.046875 3.421875 37.71875 1 \nQ 33.40625 -1.421875 27.6875 -1.421875 \nQ 18.265625 -1.421875 13.375 4.4375 \nQ 8.5 10.296875 8.5 21.578125 \nz\nM 31.109375 56 \nz\n\" id=\"DejaVuSans-117\"/>\n      <path d=\"M 54.890625 33.015625 \nL 54.890625 0 \nL 45.90625 0 \nL 45.90625 32.71875 \nQ 45.90625 40.484375 42.875 44.328125 \nQ 39.84375 48.1875 33.796875 48.1875 \nQ 26.515625 48.1875 22.3125 43.546875 \nQ 18.109375 38.921875 18.109375 30.90625 \nL 18.109375 0 \nL 9.078125 0 \nL 9.078125 54.6875 \nL 18.109375 54.6875 \nL 18.109375 46.1875 \nQ 21.34375 51.125 25.703125 53.5625 \nQ 30.078125 56 35.796875 56 \nQ 45.21875 56 50.046875 50.171875 \nQ 54.890625 44.34375 54.890625 33.015625 \nz\n\" id=\"DejaVuSans-110\"/>\n      <path d=\"M 48.78125 52.59375 \nL 48.78125 44.1875 \nQ 44.96875 46.296875 41.140625 47.34375 \nQ 37.3125 48.390625 33.40625 48.390625 \nQ 24.65625 48.390625 19.8125 42.84375 \nQ 14.984375 37.3125 14.984375 27.296875 \nQ 14.984375 17.28125 19.8125 11.734375 \nQ 24.65625 6.203125 33.40625 6.203125 \nQ 37.3125 6.203125 41.140625 7.25 \nQ 44.96875 8.296875 48.78125 10.40625 \nL 48.78125 2.09375 \nQ 45.015625 0.34375 40.984375 -0.53125 \nQ 36.96875 -1.421875 32.421875 -1.421875 \nQ 20.0625 -1.421875 12.78125 6.34375 \nQ 5.515625 14.109375 5.515625 27.296875 \nQ 5.515625 40.671875 12.859375 48.328125 \nQ 20.21875 56 33.015625 56 \nQ 37.15625 56 41.109375 55.140625 \nQ 45.0625 54.296875 48.78125 52.59375 \nz\n\" id=\"DejaVuSans-99\"/>\n      <path d=\"M 32.171875 -5.078125 \nQ 28.375 -14.84375 24.75 -17.8125 \nQ 21.140625 -20.796875 15.09375 -20.796875 \nL 7.90625 -20.796875 \nL 7.90625 -13.28125 \nL 13.1875 -13.28125 \nQ 16.890625 -13.28125 18.9375 -11.515625 \nQ 21 -9.765625 23.484375 -3.21875 \nL 25.09375 0.875 \nL 2.984375 54.6875 \nL 12.5 54.6875 \nL 29.59375 11.921875 \nL 46.6875 54.6875 \nL 56.203125 54.6875 \nz\n\" id=\"DejaVuSans-121\"/>\n     </defs>\n     <g transform=\"translate(14.798437 129.687813)rotate(-90)scale(0.1 -0.1)\">\n      <use xlink:href=\"#DejaVuSans-70\"/>\n      <use x=\"50.269531\" xlink:href=\"#DejaVuSans-114\"/>\n      <use x=\"89.132812\" xlink:href=\"#DejaVuSans-101\"/>\n      <use x=\"150.65625\" xlink:href=\"#DejaVuSans-113\"/>\n      <use x=\"214.132812\" xlink:href=\"#DejaVuSans-117\"/>\n      <use x=\"277.511719\" xlink:href=\"#DejaVuSans-101\"/>\n      <use x=\"339.035156\" xlink:href=\"#DejaVuSans-110\"/>\n      <use x=\"402.414062\" xlink:href=\"#DejaVuSans-99\"/>\n      <use x=\"457.394531\" xlink:href=\"#DejaVuSans-121\"/>\n     </g>\n    </g>\n   </g>\n   <g id=\"patch_103\">\n    <path d=\"M 34.240625 185.398125 \nL 34.240625 22.318125 \n\" style=\"fill:none;stroke:#000000;stroke-linecap:square;stroke-linejoin:miter;stroke-width:0.8;\"/>\n   </g>\n   <g id=\"patch_104\">\n    <path d=\"M 369.040625 185.398125 \nL 369.040625 22.318125 \n\" style=\"fill:none;stroke:#000000;stroke-linecap:square;stroke-linejoin:miter;stroke-width:0.8;\"/>\n   </g>\n   <g id=\"patch_105\">\n    <path d=\"M 34.240625 185.398125 \nL 369.040625 185.398125 \n\" style=\"fill:none;stroke:#000000;stroke-linecap:square;stroke-linejoin:miter;stroke-width:0.8;\"/>\n   </g>\n   <g id=\"patch_106\">\n    <path d=\"M 34.240625 22.318125 \nL 369.040625 22.318125 \n\" style=\"fill:none;stroke:#000000;stroke-linecap:square;stroke-linejoin:miter;stroke-width:0.8;\"/>\n   </g>\n   <g id=\"text_20\">\n    <!-- Max position reached by the car -->\n    <defs>\n     <path d=\"M 9.8125 72.90625 \nL 24.515625 72.90625 \nL 43.109375 23.296875 \nL 61.8125 72.90625 \nL 76.515625 72.90625 \nL 76.515625 0 \nL 66.890625 0 \nL 66.890625 64.015625 \nL 48.09375 14.015625 \nL 38.1875 14.015625 \nL 19.390625 64.015625 \nL 19.390625 0 \nL 9.8125 0 \nz\n\" id=\"DejaVuSans-77\"/>\n     <path d=\"M 34.28125 27.484375 \nQ 23.390625 27.484375 19.1875 25 \nQ 14.984375 22.515625 14.984375 16.5 \nQ 14.984375 11.71875 18.140625 8.90625 \nQ 21.296875 6.109375 26.703125 6.109375 \nQ 34.1875 6.109375 38.703125 11.40625 \nQ 43.21875 16.703125 43.21875 25.484375 \nL 43.21875 27.484375 \nz\nM 52.203125 31.203125 \nL 52.203125 0 \nL 43.21875 0 \nL 43.21875 8.296875 \nQ 40.140625 3.328125 35.546875 0.953125 \nQ 30.953125 -1.421875 24.3125 -1.421875 \nQ 15.921875 -1.421875 10.953125 3.296875 \nQ 6 8.015625 6 15.921875 \nQ 6 25.140625 12.171875 29.828125 \nQ 18.359375 34.515625 30.609375 34.515625 \nL 43.21875 34.515625 \nL 43.21875 35.40625 \nQ 43.21875 41.609375 39.140625 45 \nQ 35.0625 48.390625 27.6875 48.390625 \nQ 23 48.390625 18.546875 47.265625 \nQ 14.109375 46.140625 10.015625 43.890625 \nL 10.015625 52.203125 \nQ 14.9375 54.109375 19.578125 55.046875 \nQ 24.21875 56 28.609375 56 \nQ 40.484375 56 46.34375 49.84375 \nQ 52.203125 43.703125 52.203125 31.203125 \nz\n\" id=\"DejaVuSans-97\"/>\n     <path d=\"M 54.890625 54.6875 \nL 35.109375 28.078125 \nL 55.90625 0 \nL 45.3125 0 \nL 29.390625 21.484375 \nL 13.484375 0 \nL 2.875 0 \nL 24.125 28.609375 \nL 4.6875 54.6875 \nL 15.28125 54.6875 \nL 29.78125 35.203125 \nL 44.28125 54.6875 \nz\n\" id=\"DejaVuSans-120\"/>\n     <path id=\"DejaVuSans-32\"/>\n     <path d=\"M 18.109375 8.203125 \nL 18.109375 -20.796875 \nL 9.078125 -20.796875 \nL 9.078125 54.6875 \nL 18.109375 54.6875 \nL 18.109375 46.390625 \nQ 20.953125 51.265625 25.265625 53.625 \nQ 29.59375 56 35.59375 56 \nQ 45.5625 56 51.78125 48.09375 \nQ 58.015625 40.1875 58.015625 27.296875 \nQ 58.015625 14.40625 51.78125 6.484375 \nQ 45.5625 -1.421875 35.59375 -1.421875 \nQ 29.59375 -1.421875 25.265625 0.953125 \nQ 20.953125 3.328125 18.109375 8.203125 \nz\nM 48.6875 27.296875 \nQ 48.6875 37.203125 44.609375 42.84375 \nQ 40.53125 48.484375 33.40625 48.484375 \nQ 26.265625 48.484375 22.1875 42.84375 \nQ 18.109375 37.203125 18.109375 27.296875 \nQ 18.109375 17.390625 22.1875 11.75 \nQ 26.265625 6.109375 33.40625 6.109375 \nQ 40.53125 6.109375 44.609375 11.75 \nQ 48.6875 17.390625 48.6875 27.296875 \nz\n\" id=\"DejaVuSans-112\"/>\n     <path d=\"M 30.609375 48.390625 \nQ 23.390625 48.390625 19.1875 42.75 \nQ 14.984375 37.109375 14.984375 27.296875 \nQ 14.984375 17.484375 19.15625 11.84375 \nQ 23.34375 6.203125 30.609375 6.203125 \nQ 37.796875 6.203125 41.984375 11.859375 \nQ 46.1875 17.53125 46.1875 27.296875 \nQ 46.1875 37.015625 41.984375 42.703125 \nQ 37.796875 48.390625 30.609375 48.390625 \nz\nM 30.609375 56 \nQ 42.328125 56 49.015625 48.375 \nQ 55.71875 40.765625 55.71875 27.296875 \nQ 55.71875 13.875 49.015625 6.21875 \nQ 42.328125 -1.421875 30.609375 -1.421875 \nQ 18.84375 -1.421875 12.171875 6.21875 \nQ 5.515625 13.875 5.515625 27.296875 \nQ 5.515625 40.765625 12.171875 48.375 \nQ 18.84375 56 30.609375 56 \nz\n\" id=\"DejaVuSans-111\"/>\n     <path d=\"M 44.28125 53.078125 \nL 44.28125 44.578125 \nQ 40.484375 46.53125 36.375 47.5 \nQ 32.28125 48.484375 27.875 48.484375 \nQ 21.1875 48.484375 17.84375 46.4375 \nQ 14.5 44.390625 14.5 40.28125 \nQ 14.5 37.15625 16.890625 35.375 \nQ 19.28125 33.59375 26.515625 31.984375 \nL 29.59375 31.296875 \nQ 39.15625 29.25 43.1875 25.515625 \nQ 47.21875 21.78125 47.21875 15.09375 \nQ 47.21875 7.46875 41.1875 3.015625 \nQ 35.15625 -1.421875 24.609375 -1.421875 \nQ 20.21875 -1.421875 15.453125 -0.5625 \nQ 10.6875 0.296875 5.421875 2 \nL 5.421875 11.28125 \nQ 10.40625 8.6875 15.234375 7.390625 \nQ 20.0625 6.109375 24.8125 6.109375 \nQ 31.15625 6.109375 34.5625 8.28125 \nQ 37.984375 10.453125 37.984375 14.40625 \nQ 37.984375 18.0625 35.515625 20.015625 \nQ 33.0625 21.96875 24.703125 23.78125 \nL 21.578125 24.515625 \nQ 13.234375 26.265625 9.515625 29.90625 \nQ 5.8125 33.546875 5.8125 39.890625 \nQ 5.8125 47.609375 11.28125 51.796875 \nQ 16.75 56 26.8125 56 \nQ 31.78125 56 36.171875 55.265625 \nQ 40.578125 54.546875 44.28125 53.078125 \nz\n\" id=\"DejaVuSans-115\"/>\n     <path d=\"M 9.421875 54.6875 \nL 18.40625 54.6875 \nL 18.40625 0 \nL 9.421875 0 \nz\nM 9.421875 75.984375 \nL 18.40625 75.984375 \nL 18.40625 64.59375 \nL 9.421875 64.59375 \nz\n\" id=\"DejaVuSans-105\"/>\n     <path d=\"M 18.3125 70.21875 \nL 18.3125 54.6875 \nL 36.8125 54.6875 \nL 36.8125 47.703125 \nL 18.3125 47.703125 \nL 18.3125 18.015625 \nQ 18.3125 11.328125 20.140625 9.421875 \nQ 21.96875 7.515625 27.59375 7.515625 \nL 36.8125 7.515625 \nL 36.8125 0 \nL 27.59375 0 \nQ 17.1875 0 13.234375 3.875 \nQ 9.28125 7.765625 9.28125 18.015625 \nL 9.28125 47.703125 \nL 2.6875 47.703125 \nL 2.6875 54.6875 \nL 9.28125 54.6875 \nL 9.28125 70.21875 \nz\n\" id=\"DejaVuSans-116\"/>\n     <path d=\"M 54.890625 33.015625 \nL 54.890625 0 \nL 45.90625 0 \nL 45.90625 32.71875 \nQ 45.90625 40.484375 42.875 44.328125 \nQ 39.84375 48.1875 33.796875 48.1875 \nQ 26.515625 48.1875 22.3125 43.546875 \nQ 18.109375 38.921875 18.109375 30.90625 \nL 18.109375 0 \nL 9.078125 0 \nL 9.078125 75.984375 \nL 18.109375 75.984375 \nL 18.109375 46.1875 \nQ 21.34375 51.125 25.703125 53.5625 \nQ 30.078125 56 35.796875 56 \nQ 45.21875 56 50.046875 50.171875 \nQ 54.890625 44.34375 54.890625 33.015625 \nz\n\" id=\"DejaVuSans-104\"/>\n     <path d=\"M 45.40625 46.390625 \nL 45.40625 75.984375 \nL 54.390625 75.984375 \nL 54.390625 0 \nL 45.40625 0 \nL 45.40625 8.203125 \nQ 42.578125 3.328125 38.25 0.953125 \nQ 33.9375 -1.421875 27.875 -1.421875 \nQ 17.96875 -1.421875 11.734375 6.484375 \nQ 5.515625 14.40625 5.515625 27.296875 \nQ 5.515625 40.1875 11.734375 48.09375 \nQ 17.96875 56 27.875 56 \nQ 33.9375 56 38.25 53.625 \nQ 42.578125 51.265625 45.40625 46.390625 \nz\nM 14.796875 27.296875 \nQ 14.796875 17.390625 18.875 11.75 \nQ 22.953125 6.109375 30.078125 6.109375 \nQ 37.203125 6.109375 41.296875 11.75 \nQ 45.40625 17.390625 45.40625 27.296875 \nQ 45.40625 37.203125 41.296875 42.84375 \nQ 37.203125 48.484375 30.078125 48.484375 \nQ 22.953125 48.484375 18.875 42.84375 \nQ 14.796875 37.203125 14.796875 27.296875 \nz\n\" id=\"DejaVuSans-100\"/>\n     <path d=\"M 48.6875 27.296875 \nQ 48.6875 37.203125 44.609375 42.84375 \nQ 40.53125 48.484375 33.40625 48.484375 \nQ 26.265625 48.484375 22.1875 42.84375 \nQ 18.109375 37.203125 18.109375 27.296875 \nQ 18.109375 17.390625 22.1875 11.75 \nQ 26.265625 6.109375 33.40625 6.109375 \nQ 40.53125 6.109375 44.609375 11.75 \nQ 48.6875 17.390625 48.6875 27.296875 \nz\nM 18.109375 46.390625 \nQ 20.953125 51.265625 25.265625 53.625 \nQ 29.59375 56 35.59375 56 \nQ 45.5625 56 51.78125 48.09375 \nQ 58.015625 40.1875 58.015625 27.296875 \nQ 58.015625 14.40625 51.78125 6.484375 \nQ 45.5625 -1.421875 35.59375 -1.421875 \nQ 29.59375 -1.421875 25.265625 0.953125 \nQ 20.953125 3.328125 18.109375 8.203125 \nL 18.109375 0 \nL 9.078125 0 \nL 9.078125 75.984375 \nL 18.109375 75.984375 \nz\n\" id=\"DejaVuSans-98\"/>\n    </defs>\n    <g transform=\"translate(104.983438 16.318125)scale(0.12 -0.12)\">\n     <use xlink:href=\"#DejaVuSans-77\"/>\n     <use x=\"86.279297\" xlink:href=\"#DejaVuSans-97\"/>\n     <use x=\"147.558594\" xlink:href=\"#DejaVuSans-120\"/>\n     <use x=\"206.738281\" xlink:href=\"#DejaVuSans-32\"/>\n     <use x=\"238.525391\" xlink:href=\"#DejaVuSans-112\"/>\n     <use x=\"302.001953\" xlink:href=\"#DejaVuSans-111\"/>\n     <use x=\"363.183594\" xlink:href=\"#DejaVuSans-115\"/>\n     <use x=\"415.283203\" xlink:href=\"#DejaVuSans-105\"/>\n     <use x=\"443.066406\" xlink:href=\"#DejaVuSans-116\"/>\n     <use x=\"482.275391\" xlink:href=\"#DejaVuSans-105\"/>\n     <use x=\"510.058594\" xlink:href=\"#DejaVuSans-111\"/>\n     <use x=\"571.240234\" xlink:href=\"#DejaVuSans-110\"/>\n     <use x=\"634.619141\" xlink:href=\"#DejaVuSans-32\"/>\n     <use x=\"666.40625\" xlink:href=\"#DejaVuSans-114\"/>\n     <use x=\"705.269531\" xlink:href=\"#DejaVuSans-101\"/>\n     <use x=\"766.792969\" xlink:href=\"#DejaVuSans-97\"/>\n     <use x=\"828.072266\" xlink:href=\"#DejaVuSans-99\"/>\n     <use x=\"883.052734\" xlink:href=\"#DejaVuSans-104\"/>\n     <use x=\"946.431641\" xlink:href=\"#DejaVuSans-101\"/>\n     <use x=\"1007.955078\" xlink:href=\"#DejaVuSans-100\"/>\n     <use x=\"1071.431641\" xlink:href=\"#DejaVuSans-32\"/>\n     <use x=\"1103.21875\" xlink:href=\"#DejaVuSans-98\"/>\n     <use x=\"1166.695312\" xlink:href=\"#DejaVuSans-121\"/>\n     <use x=\"1225.875\" xlink:href=\"#DejaVuSans-32\"/>\n     <use x=\"1257.662109\" xlink:href=\"#DejaVuSans-116\"/>\n     <use x=\"1296.871094\" xlink:href=\"#DejaVuSans-104\"/>\n     <use x=\"1360.25\" xlink:href=\"#DejaVuSans-101\"/>\n     <use x=\"1421.773438\" xlink:href=\"#DejaVuSans-32\"/>\n     <use x=\"1453.560547\" xlink:href=\"#DejaVuSans-99\"/>\n     <use x=\"1508.541016\" xlink:href=\"#DejaVuSans-97\"/>\n     <use x=\"1569.820312\" xlink:href=\"#DejaVuSans-114\"/>\n    </g>\n   </g>\n  </g>\n </g>\n <defs>\n  <clipPath id=\"pe760413d77\">\n   <rect height=\"163.08\" width=\"334.8\" x=\"34.240625\" y=\"22.318125\"/>\n  </clipPath>\n </defs>\n</svg>\n"
          },
          "metadata": {
            "needs_background": "light"
          }
        }
      ],
      "source": [
        "import matplotlib.pyplot as plt\n",
        "import pandas as pd\n",
        "\n",
        "\n",
        "fig, ax = plt.subplots(figsize = (6, 3))\n",
        "ax.set_title(\"Max position reached by the car\")    \n",
        "ax.set(xlim=(-0.5, 0.6), xticks=np.arange(-0.5, 0.6, 0.1))\n",
        "pd.Series(max_positions).plot(kind='hist', bins=100)\n",
        "\n",
        "plt.show()\n"
      ]
    },
    {
      "cell_type": "markdown",
      "metadata": {
        "id": "qux1E_NpN4sS"
      },
      "source": [
        "### Let's see our agent in action 🎬"
      ]
    },
    {
      "cell_type": "code",
      "execution_count": 33,
      "metadata": {
        "colab": {
          "base_uri": "https://localhost:8080/",
          "height": 809
        },
        "id": "ZZph1VbXN6Ne",
        "outputId": "461a2c88-01df-4bed-ed61-564e6ee5ee8a"
      },
      "outputs": [
        {
          "output_type": "error",
          "ename": "TypeError",
          "evalue": "ignored",
          "traceback": [
            "\u001b[0;31m---------------------------------------------------------------------------\u001b[0m",
            "\u001b[0;31mTypeError\u001b[0m                                 Traceback (most recent call last)",
            "\u001b[0;32m<ipython-input-33-2cdcac45cab1>\u001b[0m in \u001b[0;36m<module>\u001b[0;34m()\u001b[0m\n\u001b[1;32m      6\u001b[0m \u001b[0;32mfrom\u001b[0m \u001b[0msrc\u001b[0m\u001b[0;34m.\u001b[0m\u001b[0mviz\u001b[0m \u001b[0;32mimport\u001b[0m \u001b[0mshow_video\u001b[0m\u001b[0;34m\u001b[0m\u001b[0;34m\u001b[0m\u001b[0m\n\u001b[1;32m      7\u001b[0m \u001b[0;34m\u001b[0m\u001b[0m\n\u001b[0;32m----> 8\u001b[0;31m \u001b[0mshow_video\u001b[0m\u001b[0;34m(\u001b[0m\u001b[0magent\u001b[0m\u001b[0;34m,\u001b[0m \u001b[0menv\u001b[0m\u001b[0;34m,\u001b[0m \u001b[0msleep_sec\u001b[0m\u001b[0;34m=\u001b[0m\u001b[0;36m0.01\u001b[0m\u001b[0;34m)\u001b[0m\u001b[0;34m\u001b[0m\u001b[0;34m\u001b[0m\u001b[0m\n\u001b[0m",
            "\u001b[0;32m/content/src/viz.py\u001b[0m in \u001b[0;36mshow_video\u001b[0;34m(agent, env, sleep_sec, mode)\u001b[0m\n\u001b[1;32m     64\u001b[0m     \u001b[0;32mwhile\u001b[0m \u001b[0;32mnot\u001b[0m \u001b[0mdone\u001b[0m\u001b[0;34m:\u001b[0m\u001b[0;34m\u001b[0m\u001b[0;34m\u001b[0m\u001b[0m\n\u001b[1;32m     65\u001b[0m \u001b[0;34m\u001b[0m\u001b[0m\n\u001b[0;32m---> 66\u001b[0;31m         \u001b[0maction\u001b[0m \u001b[0;34m=\u001b[0m \u001b[0magent\u001b[0m\u001b[0;34m.\u001b[0m\u001b[0mget_action\u001b[0m\u001b[0;34m(\u001b[0m\u001b[0mstate\u001b[0m\u001b[0;34m)\u001b[0m\u001b[0;34m\u001b[0m\u001b[0;34m\u001b[0m\u001b[0m\n\u001b[0m\u001b[1;32m     67\u001b[0m         \u001b[0mstate\u001b[0m\u001b[0;34m,\u001b[0m \u001b[0mreward\u001b[0m\u001b[0;34m,\u001b[0m \u001b[0mdone\u001b[0m\u001b[0;34m,\u001b[0m \u001b[0minfo\u001b[0m \u001b[0;34m=\u001b[0m \u001b[0menv\u001b[0m\u001b[0;34m.\u001b[0m\u001b[0mstep\u001b[0m\u001b[0;34m(\u001b[0m\u001b[0maction\u001b[0m\u001b[0;34m)\u001b[0m\u001b[0;34m\u001b[0m\u001b[0;34m\u001b[0m\u001b[0m\n\u001b[1;32m     68\u001b[0m         \u001b[0;31m# LAPADULA\u001b[0m\u001b[0;34m\u001b[0m\u001b[0;34m\u001b[0m\u001b[0;34m\u001b[0m\u001b[0m\n",
            "\u001b[0;31mTypeError\u001b[0m: get_action() missing 1 required positional argument: 'epsilon'"
          ]
        },
        {
          "output_type": "display_data",
          "data": {
            "text/plain": [
              "<Figure size 576x432 with 1 Axes>"
            ],
            "image/svg+xml": "<?xml version=\"1.0\" encoding=\"utf-8\" standalone=\"no\"?>\n<!DOCTYPE svg PUBLIC \"-//W3C//DTD SVG 1.1//EN\"\n  \"http://www.w3.org/Graphics/SVG/1.1/DTD/svg11.dtd\">\n<!-- Created with matplotlib (https://matplotlib.org/) -->\n<svg height=\"361.037344pt\" version=\"1.1\" viewBox=\"0 0 491.654687 361.037344\" width=\"491.654687pt\" xmlns=\"http://www.w3.org/2000/svg\" xmlns:xlink=\"http://www.w3.org/1999/xlink\">\n <defs>\n  <style type=\"text/css\">\n*{stroke-linecap:butt;stroke-linejoin:round;}\n  </style>\n </defs>\n <g id=\"figure_1\">\n  <g id=\"patch_1\">\n   <path d=\"M 0 361.037344 \nL 491.654687 361.037344 \nL 491.654687 0 \nL 0 0 \nz\n\" style=\"fill:none;\"/>\n  </g>\n  <g id=\"axes_1\">\n   <g id=\"patch_2\">\n    <path d=\"M 30.103125 337.159219 \nL 476.503125 337.159219 \nL 476.503125 10.999219 \nL 30.103125 10.999219 \nz\n\" style=\"fill:#ffffff;\"/>\n   </g>\n   <g id=\"matplotlib.axis_1\">\n    <g id=\"xtick_1\">\n     <g id=\"line2d_1\">\n      <defs>\n       <path d=\"M 0 0 \nL 0 3.5 \n\" id=\"md1cbdb8ee3\" style=\"stroke:#000000;stroke-width:0.8;\"/>\n      </defs>\n      <g>\n       <use style=\"stroke:#000000;stroke-width:0.8;\" x=\"30.103125\" xlink:href=\"#md1cbdb8ee3\" y=\"337.159219\"/>\n      </g>\n     </g>\n     <g id=\"text_1\">\n      <!-- 0.0 -->\n      <defs>\n       <path d=\"M 31.78125 66.40625 \nQ 24.171875 66.40625 20.328125 58.90625 \nQ 16.5 51.421875 16.5 36.375 \nQ 16.5 21.390625 20.328125 13.890625 \nQ 24.171875 6.390625 31.78125 6.390625 \nQ 39.453125 6.390625 43.28125 13.890625 \nQ 47.125 21.390625 47.125 36.375 \nQ 47.125 51.421875 43.28125 58.90625 \nQ 39.453125 66.40625 31.78125 66.40625 \nz\nM 31.78125 74.21875 \nQ 44.046875 74.21875 50.515625 64.515625 \nQ 56.984375 54.828125 56.984375 36.375 \nQ 56.984375 17.96875 50.515625 8.265625 \nQ 44.046875 -1.421875 31.78125 -1.421875 \nQ 19.53125 -1.421875 13.0625 8.265625 \nQ 6.59375 17.96875 6.59375 36.375 \nQ 6.59375 54.828125 13.0625 64.515625 \nQ 19.53125 74.21875 31.78125 74.21875 \nz\n\" id=\"DejaVuSans-48\"/>\n       <path d=\"M 10.6875 12.40625 \nL 21 12.40625 \nL 21 0 \nL 10.6875 0 \nz\n\" id=\"DejaVuSans-46\"/>\n      </defs>\n      <g transform=\"translate(22.151563 351.757656)scale(0.1 -0.1)\">\n       <use xlink:href=\"#DejaVuSans-48\"/>\n       <use x=\"63.623047\" xlink:href=\"#DejaVuSans-46\"/>\n       <use x=\"95.410156\" xlink:href=\"#DejaVuSans-48\"/>\n      </g>\n     </g>\n    </g>\n    <g id=\"xtick_2\">\n     <g id=\"line2d_2\">\n      <g>\n       <use style=\"stroke:#000000;stroke-width:0.8;\" x=\"119.383125\" xlink:href=\"#md1cbdb8ee3\" y=\"337.159219\"/>\n      </g>\n     </g>\n     <g id=\"text_2\">\n      <!-- 0.2 -->\n      <defs>\n       <path d=\"M 19.1875 8.296875 \nL 53.609375 8.296875 \nL 53.609375 0 \nL 7.328125 0 \nL 7.328125 8.296875 \nQ 12.9375 14.109375 22.625 23.890625 \nQ 32.328125 33.6875 34.8125 36.53125 \nQ 39.546875 41.84375 41.421875 45.53125 \nQ 43.3125 49.21875 43.3125 52.78125 \nQ 43.3125 58.59375 39.234375 62.25 \nQ 35.15625 65.921875 28.609375 65.921875 \nQ 23.96875 65.921875 18.8125 64.3125 \nQ 13.671875 62.703125 7.8125 59.421875 \nL 7.8125 69.390625 \nQ 13.765625 71.78125 18.9375 73 \nQ 24.125 74.21875 28.421875 74.21875 \nQ 39.75 74.21875 46.484375 68.546875 \nQ 53.21875 62.890625 53.21875 53.421875 \nQ 53.21875 48.921875 51.53125 44.890625 \nQ 49.859375 40.875 45.40625 35.40625 \nQ 44.1875 33.984375 37.640625 27.21875 \nQ 31.109375 20.453125 19.1875 8.296875 \nz\n\" id=\"DejaVuSans-50\"/>\n      </defs>\n      <g transform=\"translate(111.431563 351.757656)scale(0.1 -0.1)\">\n       <use xlink:href=\"#DejaVuSans-48\"/>\n       <use x=\"63.623047\" xlink:href=\"#DejaVuSans-46\"/>\n       <use x=\"95.410156\" xlink:href=\"#DejaVuSans-50\"/>\n      </g>\n     </g>\n    </g>\n    <g id=\"xtick_3\">\n     <g id=\"line2d_3\">\n      <g>\n       <use style=\"stroke:#000000;stroke-width:0.8;\" x=\"208.663125\" xlink:href=\"#md1cbdb8ee3\" y=\"337.159219\"/>\n      </g>\n     </g>\n     <g id=\"text_3\">\n      <!-- 0.4 -->\n      <defs>\n       <path d=\"M 37.796875 64.3125 \nL 12.890625 25.390625 \nL 37.796875 25.390625 \nz\nM 35.203125 72.90625 \nL 47.609375 72.90625 \nL 47.609375 25.390625 \nL 58.015625 25.390625 \nL 58.015625 17.1875 \nL 47.609375 17.1875 \nL 47.609375 0 \nL 37.796875 0 \nL 37.796875 17.1875 \nL 4.890625 17.1875 \nL 4.890625 26.703125 \nz\n\" id=\"DejaVuSans-52\"/>\n      </defs>\n      <g transform=\"translate(200.711563 351.757656)scale(0.1 -0.1)\">\n       <use xlink:href=\"#DejaVuSans-48\"/>\n       <use x=\"63.623047\" xlink:href=\"#DejaVuSans-46\"/>\n       <use x=\"95.410156\" xlink:href=\"#DejaVuSans-52\"/>\n      </g>\n     </g>\n    </g>\n    <g id=\"xtick_4\">\n     <g id=\"line2d_4\">\n      <g>\n       <use style=\"stroke:#000000;stroke-width:0.8;\" x=\"297.943125\" xlink:href=\"#md1cbdb8ee3\" y=\"337.159219\"/>\n      </g>\n     </g>\n     <g id=\"text_4\">\n      <!-- 0.6 -->\n      <defs>\n       <path d=\"M 33.015625 40.375 \nQ 26.375 40.375 22.484375 35.828125 \nQ 18.609375 31.296875 18.609375 23.390625 \nQ 18.609375 15.53125 22.484375 10.953125 \nQ 26.375 6.390625 33.015625 6.390625 \nQ 39.65625 6.390625 43.53125 10.953125 \nQ 47.40625 15.53125 47.40625 23.390625 \nQ 47.40625 31.296875 43.53125 35.828125 \nQ 39.65625 40.375 33.015625 40.375 \nz\nM 52.59375 71.296875 \nL 52.59375 62.3125 \nQ 48.875 64.0625 45.09375 64.984375 \nQ 41.3125 65.921875 37.59375 65.921875 \nQ 27.828125 65.921875 22.671875 59.328125 \nQ 17.53125 52.734375 16.796875 39.40625 \nQ 19.671875 43.65625 24.015625 45.921875 \nQ 28.375 48.1875 33.59375 48.1875 \nQ 44.578125 48.1875 50.953125 41.515625 \nQ 57.328125 34.859375 57.328125 23.390625 \nQ 57.328125 12.15625 50.6875 5.359375 \nQ 44.046875 -1.421875 33.015625 -1.421875 \nQ 20.359375 -1.421875 13.671875 8.265625 \nQ 6.984375 17.96875 6.984375 36.375 \nQ 6.984375 53.65625 15.1875 63.9375 \nQ 23.390625 74.21875 37.203125 74.21875 \nQ 40.921875 74.21875 44.703125 73.484375 \nQ 48.484375 72.75 52.59375 71.296875 \nz\n\" id=\"DejaVuSans-54\"/>\n      </defs>\n      <g transform=\"translate(289.991562 351.757656)scale(0.1 -0.1)\">\n       <use xlink:href=\"#DejaVuSans-48\"/>\n       <use x=\"63.623047\" xlink:href=\"#DejaVuSans-46\"/>\n       <use x=\"95.410156\" xlink:href=\"#DejaVuSans-54\"/>\n      </g>\n     </g>\n    </g>\n    <g id=\"xtick_5\">\n     <g id=\"line2d_5\">\n      <g>\n       <use style=\"stroke:#000000;stroke-width:0.8;\" x=\"387.223125\" xlink:href=\"#md1cbdb8ee3\" y=\"337.159219\"/>\n      </g>\n     </g>\n     <g id=\"text_5\">\n      <!-- 0.8 -->\n      <defs>\n       <path d=\"M 31.78125 34.625 \nQ 24.75 34.625 20.71875 30.859375 \nQ 16.703125 27.09375 16.703125 20.515625 \nQ 16.703125 13.921875 20.71875 10.15625 \nQ 24.75 6.390625 31.78125 6.390625 \nQ 38.8125 6.390625 42.859375 10.171875 \nQ 46.921875 13.96875 46.921875 20.515625 \nQ 46.921875 27.09375 42.890625 30.859375 \nQ 38.875 34.625 31.78125 34.625 \nz\nM 21.921875 38.8125 \nQ 15.578125 40.375 12.03125 44.71875 \nQ 8.5 49.078125 8.5 55.328125 \nQ 8.5 64.0625 14.71875 69.140625 \nQ 20.953125 74.21875 31.78125 74.21875 \nQ 42.671875 74.21875 48.875 69.140625 \nQ 55.078125 64.0625 55.078125 55.328125 \nQ 55.078125 49.078125 51.53125 44.71875 \nQ 48 40.375 41.703125 38.8125 \nQ 48.828125 37.15625 52.796875 32.3125 \nQ 56.78125 27.484375 56.78125 20.515625 \nQ 56.78125 9.90625 50.3125 4.234375 \nQ 43.84375 -1.421875 31.78125 -1.421875 \nQ 19.734375 -1.421875 13.25 4.234375 \nQ 6.78125 9.90625 6.78125 20.515625 \nQ 6.78125 27.484375 10.78125 32.3125 \nQ 14.796875 37.15625 21.921875 38.8125 \nz\nM 18.3125 54.390625 \nQ 18.3125 48.734375 21.84375 45.5625 \nQ 25.390625 42.390625 31.78125 42.390625 \nQ 38.140625 42.390625 41.71875 45.5625 \nQ 45.3125 48.734375 45.3125 54.390625 \nQ 45.3125 60.0625 41.71875 63.234375 \nQ 38.140625 66.40625 31.78125 66.40625 \nQ 25.390625 66.40625 21.84375 63.234375 \nQ 18.3125 60.0625 18.3125 54.390625 \nz\n\" id=\"DejaVuSans-56\"/>\n      </defs>\n      <g transform=\"translate(379.271562 351.757656)scale(0.1 -0.1)\">\n       <use xlink:href=\"#DejaVuSans-48\"/>\n       <use x=\"63.623047\" xlink:href=\"#DejaVuSans-46\"/>\n       <use x=\"95.410156\" xlink:href=\"#DejaVuSans-56\"/>\n      </g>\n     </g>\n    </g>\n    <g id=\"xtick_6\">\n     <g id=\"line2d_6\">\n      <g>\n       <use style=\"stroke:#000000;stroke-width:0.8;\" x=\"476.503125\" xlink:href=\"#md1cbdb8ee3\" y=\"337.159219\"/>\n      </g>\n     </g>\n     <g id=\"text_6\">\n      <!-- 1.0 -->\n      <defs>\n       <path d=\"M 12.40625 8.296875 \nL 28.515625 8.296875 \nL 28.515625 63.921875 \nL 10.984375 60.40625 \nL 10.984375 69.390625 \nL 28.421875 72.90625 \nL 38.28125 72.90625 \nL 38.28125 8.296875 \nL 54.390625 8.296875 \nL 54.390625 0 \nL 12.40625 0 \nz\n\" id=\"DejaVuSans-49\"/>\n      </defs>\n      <g transform=\"translate(468.551562 351.757656)scale(0.1 -0.1)\">\n       <use xlink:href=\"#DejaVuSans-49\"/>\n       <use x=\"63.623047\" xlink:href=\"#DejaVuSans-46\"/>\n       <use x=\"95.410156\" xlink:href=\"#DejaVuSans-48\"/>\n      </g>\n     </g>\n    </g>\n   </g>\n   <g id=\"matplotlib.axis_2\">\n    <g id=\"ytick_1\">\n     <g id=\"line2d_7\">\n      <defs>\n       <path d=\"M 0 0 \nL -3.5 0 \n\" id=\"m510efb730e\" style=\"stroke:#000000;stroke-width:0.8;\"/>\n      </defs>\n      <g>\n       <use style=\"stroke:#000000;stroke-width:0.8;\" x=\"30.103125\" xlink:href=\"#m510efb730e\" y=\"337.159219\"/>\n      </g>\n     </g>\n     <g id=\"text_7\">\n      <!-- 0.0 -->\n      <g transform=\"translate(7.2 340.958438)scale(0.1 -0.1)\">\n       <use xlink:href=\"#DejaVuSans-48\"/>\n       <use x=\"63.623047\" xlink:href=\"#DejaVuSans-46\"/>\n       <use x=\"95.410156\" xlink:href=\"#DejaVuSans-48\"/>\n      </g>\n     </g>\n    </g>\n    <g id=\"ytick_2\">\n     <g id=\"line2d_8\">\n      <g>\n       <use style=\"stroke:#000000;stroke-width:0.8;\" x=\"30.103125\" xlink:href=\"#m510efb730e\" y=\"271.927219\"/>\n      </g>\n     </g>\n     <g id=\"text_8\">\n      <!-- 0.2 -->\n      <g transform=\"translate(7.2 275.726438)scale(0.1 -0.1)\">\n       <use xlink:href=\"#DejaVuSans-48\"/>\n       <use x=\"63.623047\" xlink:href=\"#DejaVuSans-46\"/>\n       <use x=\"95.410156\" xlink:href=\"#DejaVuSans-50\"/>\n      </g>\n     </g>\n    </g>\n    <g id=\"ytick_3\">\n     <g id=\"line2d_9\">\n      <g>\n       <use style=\"stroke:#000000;stroke-width:0.8;\" x=\"30.103125\" xlink:href=\"#m510efb730e\" y=\"206.695219\"/>\n      </g>\n     </g>\n     <g id=\"text_9\">\n      <!-- 0.4 -->\n      <g transform=\"translate(7.2 210.494438)scale(0.1 -0.1)\">\n       <use xlink:href=\"#DejaVuSans-48\"/>\n       <use x=\"63.623047\" xlink:href=\"#DejaVuSans-46\"/>\n       <use x=\"95.410156\" xlink:href=\"#DejaVuSans-52\"/>\n      </g>\n     </g>\n    </g>\n    <g id=\"ytick_4\">\n     <g id=\"line2d_10\">\n      <g>\n       <use style=\"stroke:#000000;stroke-width:0.8;\" x=\"30.103125\" xlink:href=\"#m510efb730e\" y=\"141.463219\"/>\n      </g>\n     </g>\n     <g id=\"text_10\">\n      <!-- 0.6 -->\n      <g transform=\"translate(7.2 145.262437)scale(0.1 -0.1)\">\n       <use xlink:href=\"#DejaVuSans-48\"/>\n       <use x=\"63.623047\" xlink:href=\"#DejaVuSans-46\"/>\n       <use x=\"95.410156\" xlink:href=\"#DejaVuSans-54\"/>\n      </g>\n     </g>\n    </g>\n    <g id=\"ytick_5\">\n     <g id=\"line2d_11\">\n      <g>\n       <use style=\"stroke:#000000;stroke-width:0.8;\" x=\"30.103125\" xlink:href=\"#m510efb730e\" y=\"76.231219\"/>\n      </g>\n     </g>\n     <g id=\"text_11\">\n      <!-- 0.8 -->\n      <g transform=\"translate(7.2 80.030438)scale(0.1 -0.1)\">\n       <use xlink:href=\"#DejaVuSans-48\"/>\n       <use x=\"63.623047\" xlink:href=\"#DejaVuSans-46\"/>\n       <use x=\"95.410156\" xlink:href=\"#DejaVuSans-56\"/>\n      </g>\n     </g>\n    </g>\n    <g id=\"ytick_6\">\n     <g id=\"line2d_12\">\n      <g>\n       <use style=\"stroke:#000000;stroke-width:0.8;\" x=\"30.103125\" xlink:href=\"#m510efb730e\" y=\"10.999219\"/>\n      </g>\n     </g>\n     <g id=\"text_12\">\n      <!-- 1.0 -->\n      <g transform=\"translate(7.2 14.798438)scale(0.1 -0.1)\">\n       <use xlink:href=\"#DejaVuSans-49\"/>\n       <use x=\"63.623047\" xlink:href=\"#DejaVuSans-46\"/>\n       <use x=\"95.410156\" xlink:href=\"#DejaVuSans-48\"/>\n      </g>\n     </g>\n    </g>\n   </g>\n   <g id=\"patch_3\">\n    <path d=\"M 30.103125 337.159219 \nL 30.103125 10.999219 \n\" style=\"fill:none;stroke:#000000;stroke-linecap:square;stroke-linejoin:miter;stroke-width:0.8;\"/>\n   </g>\n   <g id=\"patch_4\">\n    <path d=\"M 476.503125 337.159219 \nL 476.503125 10.999219 \n\" style=\"fill:none;stroke:#000000;stroke-linecap:square;stroke-linejoin:miter;stroke-width:0.8;\"/>\n   </g>\n   <g id=\"patch_5\">\n    <path d=\"M 30.103125 337.159219 \nL 476.503125 337.159219 \n\" style=\"fill:none;stroke:#000000;stroke-linecap:square;stroke-linejoin:miter;stroke-width:0.8;\"/>\n   </g>\n   <g id=\"patch_6\">\n    <path d=\"M 30.103125 10.999219 \nL 476.503125 10.999219 \n\" style=\"fill:none;stroke:#000000;stroke-linecap:square;stroke-linejoin:miter;stroke-width:0.8;\"/>\n   </g>\n  </g>\n </g>\n</svg>\n"
          },
          "metadata": {
            "needs_background": "light"
          }
        }
      ],
      "source": [
        "# Workaround for pygame error: \"error: No available video device\"\n",
        "# See https://stackoverflow.com/questions/15933493/pygame-error-no-available-video-device?rq=1\n",
        "# This is probably needed only for Linux\n",
        "import os\n",
        "os.environ[\"SDL_VIDEODRIVER\"] = \"dummy\"\n",
        "from src.viz import show_video\n",
        "\n",
        "show_video(agent, env, sleep_sec=0.01)\n"
      ]
    },
    {
      "cell_type": "markdown",
      "metadata": {
        "id": "z6uOiFpKJEbd"
      },
      "source": [
        "# 4.. **SARSA agent** 🤖🧠 \n",
        "[02_sarsa_agent.ipynb](https://github.com/Paulescu/hands-on-rl/blob/main/02_mountain_car/notebooks/02_sarsa_agent.ipynb)\n",
        "\n",
        "\n"
      ]
    },
    {
      "cell_type": "markdown",
      "metadata": {
        "id": "WwflNq-EYLkS"
      },
      "source": [
        "**SARSA** (by Rummery and Niranjan) is an algorithm to train reinforcement learning agents by learning the optimal **$q$-value** function.\n",
        "\n",
        "It was published in 1994, two years after [Q-learning](https://www.gatsby.ucl.ac.uk/~dayan/papers/cjch.pdf) (by Chris Walkins and Peter Dayan).\n",
        "\n",
        "**SARSA** stands for **S**tate **A**ction **R**eward **S**tate **A**ction.\n",
        "\n",
        "Both **SARSA** and **$Q$-learning** exploit the Bellman equation to iteratively find better approximations to the optimal **$q$-value** function **$Q^*(s, a)$**:\n",
        "\n",
        "**$$Q^o(s,a) \\rightarrow Q^1(s,a) \\rightarrow Q^2(s,a) \\rightarrow \\cdots \\rightarrow Q^N(s,a) \\approx Q^*(s,a)$$**"
      ]
    },
    {
      "cell_type": "markdown",
      "metadata": {
        "id": "KKyXovWvZVB9"
      },
      "source": [
        "But, **SARSA** does it slightly differently.\n",
        "\n",
        "If you remember from [part 2](https://colab.research.google.com/drive/1Dn2cWuBFIG1rO8h3d92jSqDFiQW5RvLj?usp=sharing), the update formula for **$Q$-learning** is\n",
        "\n",
        "<center>\n",
        "<img src=\"https://miro.medium.com/max/1050/0*VmNvb0OaMSsBhykj.png\" width=\"86%\">\n",
        "</center>\n",
        "\n",
        "This formula is a way to compute a new estimate of the **$q$-value** that is closer to\n",
        "\n",
        "<center>\n",
        "<img src=\"https://miro.medium.com/max/1050/1*MlcDcVs5vRN1uM09F1EM9A.png\" width=\"60%\">\n",
        "</center>\n",
        "\n",
        "This quantity is a **target 🎯** we want to correct our old estimate towards. It’s an estimation of the optimal **$q$-value** we should aim at, that changes as we train the agent and our **$q$-value** matrix gets updated."
      ]
    },
    {
      "cell_type": "markdown",
      "metadata": {
        "id": "UrT1pOkAxRBl"
      },
      "source": [
        "### **Reinforcement learning & ML & moving target**\n",
        "**Reinforcement learning problems often look like supervised ML problems, but with moving targets 🏃 🎯**\n",
        "\n",
        "**SARSA** has a similar update formula but with a different target\n",
        "<center>\n",
        "<img src=\"https://miro.medium.com/max/1050/1*Y-vKWZbWFOIpQNBDHlu-Aw.png\" width=\"70%\">\n",
        "</center>\n",
        "\n",
        "SARSA’s target:\n",
        "<center>\n",
        "<img src=\"https://miro.medium.com/max/1050/1*n9seK9X4q4KBNE7qpyidTA.png\" width=\"40%\">\n",
        "</center>\n",
        "\n",
        "depends also on the action **$a’$** the agent will take in the next state **$s’$**. This is the final **$A$** in **SARSA’s** name.\n",
        "\n",
        "If you explore enough the state space and update your **$q$-matrices** with **SARSA** you will get to an optimal policy. Great!\n"
      ]
    },
    {
      "cell_type": "markdown",
      "metadata": {
        "id": "wh4XLapppcwT"
      },
      "source": [
        "### **$Q$-learning (off-policy)** vs **SARSA (on-policy)** - Key Differences\n",
        "\n",
        "* **SARSA’s** update depends on the next action **$a^{’}$**, and hence on the current policy. As you train and the **$q$-value** (and associated policy) get updated the new policy might produce a different next action **$a^{’’}$** for the same state **$s^{’}$**. You cannot use past experiences **$(s, a, r, s^{’}, a^{’})$** to improve your estimates. Instead, you use each experience once to update the **$q$-values** and then throw it away. Because of this, **SARSA** is called an **on-policy** method.\n",
        "\n",
        "* In **$Q$-learning**, the update formula does not depend on the next action **$a^{’}$**, but only on **$(s, a, r, s^{’})$**. You can reuse past experiences **$(s, a, r, s^{’})$**, collected with an old version of the policy, to improve the **$q$-values** of the current policy. **$Q$-learning** is an **off-policy** method.\n",
        "\n",
        "**Off-policy** methods need less experience to learn than **on-policy** methods because you can re-use past experiences several times to improve your estimates. They are more sample efficient.\n",
        "\n",
        "However, **off-policy** methods have issues converging to the optimal **$q$-value** function **$Q^*(s, a)$** when the state, action spaces grow. They can be tricky and unstable.\n",
        "\n",
        "We will encounter these trade-offs later in the course when we enter the Deep RL territory 🤓."
      ]
    },
    {
      "cell_type": "code",
      "execution_count": null,
      "metadata": {
        "id": "GvkWnhzWUIV5"
      },
      "outputs": [],
      "source": [
        "%load_ext autoreload\n",
        "%autoreload 2\n",
        "%pylab inline\n",
        "%config InlineBackend.figure_format = 'svg'"
      ]
    },
    {
      "cell_type": "markdown",
      "metadata": {
        "id": "kmoNLGk_J4PO"
      },
      "source": [
        "### Environment 🌎"
      ]
    },
    {
      "cell_type": "code",
      "execution_count": null,
      "metadata": {
        "id": "5M-hB4z1UL7D"
      },
      "outputs": [],
      "source": [
        "import gym\n",
        "env = gym.make('MountainCar-v0')\n",
        "env._max_episode_steps = 1000"
      ]
    },
    {
      "cell_type": "markdown",
      "metadata": {
        "id": "bvHTNmsjC46r"
      },
      "source": [
        "In the ```MountainCar environment```, the state is not discrete, but a pair of continuous values (position ```s1```, velocity ```s2```).\n",
        "\n",
        "Continuous essentially means infinite possible values in this context. If there are infinite possible states, it is impossible to visit them all to guarantee that SARSA will converge.\n",
        "\n",
        "To fix that we can use a trick.\n",
        "\n",
        "Let’s discretize the state vector into a finite set of values. Essentially, we are not changing the environment, but the representation of the state the agent uses to choose its actions.\n",
        "\n",
        "Our **SarsaAgent** discretizes the state ```(s1, s2)``` from continuous to discrete, by rounding the position ```[-1.2 … 0.6]``` to the closest ```0.1``` mark, and the velocity ```[-0.07 ...0.07]``` to the closest ```0.01``` mark.\n",
        "\n",
        "<figure><center>\n",
        "<img src=\"https://miro.medium.com/max/1575/1*VFlTdjKroJ6Qt-douDurcw.png\" width=\"70%\">\n",
        "</center></figure>\n",
        "\n",
        "Once the agent uses a discretized state, we can use the **SARSA** update formula from above, and as we keep on iterating we will get closer to an optimal **$q$-value**."
      ]
    },
    {
      "cell_type": "markdown",
      "metadata": {
        "id": "Pw4vgzbsUkpR"
      },
      "source": [
        "### **SARSA agent 🤖**"
      ]
    },
    {
      "cell_type": "markdown",
      "metadata": {
        "id": "8Y9V5EqEEn3B"
      },
      "source": [
        "This is the whole implementation of the ```SarsaAgent```\n",
        "\n",
        "<figure><center>\n",
        "<img src=\"https://miro.medium.com/max/1575/1*PF3p91x8tGMO4dGphz9qvQ.png\" width=\"68%\">\n",
        "</center></figure>"
      ]
    },
    {
      "cell_type": "markdown",
      "metadata": {
        "id": "AuS6gVOwFIOi"
      },
      "source": [
        "Note 👆 that the **$q$-value** function is a matrix with 3 dimensions: \n",
        "  - 2 for the state **(position, velocity)**\n",
        "  - 1 for the **action**.\n",
        "\n",
        "Let’s choose sensible hyper-parameters and train this ```SarsaAgent``` for ```n_episodes = 10,000```\n",
        "\n",
        "<figure><center>\n",
        "<img src=\"https://miro.medium.com/max/1575/1*hZeundcHQjXNC9zRVL8Qew.png\" width=\"50%\">\n",
        "<img src=\"https://miro.medium.com/max/1575/1*YX_S88jawVJLzMQKU447uA.png\" width=\"50%\">\n",
        "</center></figure>"
      ]
    },
    {
      "cell_type": "code",
      "execution_count": null,
      "metadata": {
        "id": "_biq5f6qUjxg"
      },
      "outputs": [],
      "source": [
        "### Define the SarsaAgent\n",
        "from src.sarsa_agent import SarsaAgent\n",
        "\n",
        "alpha = 0.1 # learning rate\n",
        "gamma = 0.9 # discount factor\n",
        "\n",
        "agent = SarsaAgent(env, alpha, gamma)"
      ]
    },
    {
      "cell_type": "code",
      "execution_count": null,
      "metadata": {
        "id": "zti1TYQoUuKn"
      },
      "outputs": [],
      "source": [
        "### Training the agent\n",
        "from src.loops import train\n",
        "\n",
        "rewards, max_positions = train(\n",
        "    agent, env, n_episodes=10000, epsilon=0.1)"
      ]
    },
    {
      "cell_type": "code",
      "execution_count": null,
      "metadata": {
        "id": "sOns6sfZU3C6"
      },
      "outputs": [],
      "source": [
        "### Plot train metrics\n",
        "import pandas as pd\n",
        "import matplotlib.pyplot as plt\n",
        "\n",
        "fig, ax = plt.subplots(figsize = (8, 3))\n",
        "ax.set_title(\"Rewards\")\n",
        "pd.Series(rewards).plot(kind='line')\n",
        "pd.Series(rewards).rolling(window=50).mean().plot(kind='line')\n",
        "plt.show()\n",
        "\n",
        "fig, ax = plt.subplots(figsize = (8, 3))\n",
        "ax.set_title(\"Max position\")    \n",
        "pd.Series(max_positions).plot(kind='line')\n",
        "pd.Series(max_positions).rolling(window=50).mean().plot(kind='line')\n",
        "plt.show()\n"
      ]
    },
    {
      "cell_type": "markdown",
      "metadata": {
        "id": "etQcuuzeU8W3"
      },
      "source": [
        "### **Evaluation**"
      ]
    },
    {
      "cell_type": "markdown",
      "metadata": {
        "id": "EkWERJTfGNvW"
      },
      "source": [
        "If you observe the ```max_position``` chart above you will realize that the car occasionally fails to climb the mountain.\n",
        "\n",
        "How often does that happen? Let’s evaluate the agent on ```1,000``` random episodes:"
      ]
    },
    {
      "cell_type": "code",
      "execution_count": null,
      "metadata": {
        "id": "HUmA6XumU9o7"
      },
      "outputs": [],
      "source": [
        "### Ecaluate the SarsaAgent for 1000 times\n",
        "from src.loops import evaluate\n",
        "\n",
        "n_episodes = 1000\n",
        "eval_rewards, eval_max_positions = evaluate(\n",
        "    agent, env, n_episodes)"
      ]
    },
    {
      "cell_type": "code",
      "execution_count": null,
      "metadata": {
        "id": "6vn_KPEQVBCc"
      },
      "outputs": [],
      "source": [
        "### Plot the Rewards and Max Position\n",
        "import pandas as pd\n",
        "\n",
        "fig, ax = plt.subplots(figsize = (8, 3))\n",
        "ax.set_title(\"Rewards\")    \n",
        "pd.Series(eval_rewards).plot(kind='line')\n",
        "plt.show()\n",
        "\n",
        "fig, ax = plt.subplots(figsize = (8, 3))\n",
        "ax.set_title(\"Max position\")    \n",
        "pd.Series(eval_max_positions).plot(kind='line')\n",
        "plt.show()"
      ]
    },
    {
      "cell_type": "code",
      "execution_count": null,
      "metadata": {
        "id": "OHdS7tzIVPkG"
      },
      "outputs": [],
      "source": [
        "### compute the success rate of our trained SarsaAgent\n",
        "n_completed = sum([1 if m > 0.5 else 0 for m in eval_max_positions])\n",
        "print(f'{n_completed} success out of {n_episodes} attempts')"
      ]
    },
    {
      "cell_type": "markdown",
      "metadata": {
        "id": "i6B8rddMVWZq"
      },
      "source": [
        "### Plotting the agent's policy\n",
        "👉This is the agent's **greedy** policy.\n",
        "\n",
        "👉The **greedy policy** selects the action that maximizes the **$q$-value** function at any given state.\n",
        "\n",
        "👉In practice you can pick an **epsilon-greedy ($\\epsilon$-greedy) policy**, to avoid overfitting issues.  Refer to [part 2](https://colab.research.google.com/drive/1Dn2cWuBFIG1rO8h3d92jSqDFiQW5RvLj?usp=sharing) for **epsilon-greedy**"
      ]
    },
    {
      "cell_type": "code",
      "execution_count": null,
      "metadata": {
        "id": "L0Mdr8ZDWIIO"
      },
      "outputs": [],
      "source": [
        "from src.viz import plot_policy\n",
        "\n",
        "positions = np.arange(env.min_position, env.max_position, 0.05)\n",
        "velocities = np.arange(-env.max_speed, env.max_speed, 0.005)\n",
        "\n",
        "plot_policy(agent, positions, velocities)\n"
      ]
    },
    {
      "cell_type": "code",
      "execution_count": null,
      "metadata": {
        "id": "ocTo7fAoWkne"
      },
      "outputs": [],
      "source": [
        "### Save the agent to disk 💾\n",
        "from src.config import SAVED_AGENTS_DIR\n",
        "path = SAVED_AGENTS_DIR / 'sarsa_agent_10k_steps'\n",
        "print(f'Saving agent to {path}')\n",
        "agent.save_to_disk(path)"
      ]
    },
    {
      "cell_type": "code",
      "execution_count": null,
      "metadata": {
        "id": "6qoZ1UhvWxPr"
      },
      "outputs": [],
      "source": [
        "### See the agent in action 🎬\n",
        "\n",
        "# Workaround for pygame error: \"error: No available video device\"\n",
        "# See https://stackoverflow.com/questions/15933493/pygame-error-no-available-video-device?rq=1\n",
        "# This is probably needed only for Linux\n",
        "import os\n",
        "os.environ[\"SDL_VIDEODRIVER\"] = \"dummy\"\n",
        "from src.viz import show_video\n",
        "\n",
        "show_video(agent, env, sleep_sec=0.01)"
      ]
    },
    {
      "cell_type": "code",
      "execution_count": null,
      "metadata": {
        "id": "5WxoRpuyXQsn"
      },
      "outputs": [],
      "source": [
        "### plot the policy 🎨\n",
        "from src.viz import plot_policy\n",
        "\n",
        "positions = np.arange(env.min_position, env.max_position, 0.05)\n",
        "velocities = np.arange(-env.max_speed, env.max_speed, 0.005)\n",
        "sarsa_policy = plot_policy(agent, positions, velocities)"
      ]
    },
    {
      "cell_type": "markdown",
      "metadata": {
        "id": "Nm7gYwfSXfzc"
      },
      "source": [
        "# 5.. The **MomentumAgent** - the best one\n",
        "[03_momentum_agent_baseline.ipynb](https://github.com/Paulescu/hands-on-rl/blob/main/02_mountain_car/notebooks/03_momentum_agent_baseline.ipynb)\n",
        "\n",
        "👉Sometimes there are easier paths than RL\n",
        "\n",
        "👉 In the ```MountainCar environment``` the best policy is just follow the momentum:\n",
        "* accelerate right, when the car is moving to the right ```velocity > 0```\n",
        "* accelerate left, when the car is moving to the left ```velocity <= 0```\n",
        "\n",
        "Visually the policy shall look like this:\n",
        "\n",
        "<img src=\"https://miro.medium.com/max/1050/1*IBxzJEqZJLRR2Bts5syeEg.png\" width=\"50%\">"
      ]
    },
    {
      "cell_type": "markdown",
      "metadata": {
        "id": "iFEONckoP9hX"
      },
      "source": [
        "### Enviornment - **MomentumAgent**"
      ]
    },
    {
      "cell_type": "code",
      "execution_count": null,
      "metadata": {
        "id": "nkoXx-6RP46-"
      },
      "outputs": [],
      "source": [
        "%load_ext autoreload\n",
        "%autoreload 2\n",
        "%pylab inline\n",
        "%config InlineBackend.figure_format = 'svg'"
      ]
    },
    {
      "cell_type": "code",
      "execution_count": null,
      "metadata": {
        "id": "zxVI5LLDP8D8"
      },
      "outputs": [],
      "source": [
        "import gym\n",
        "env = gym.make('MountainCar-v0')\n",
        "env._max_episode_steps = 1000"
      ]
    },
    {
      "cell_type": "markdown",
      "source": [
        "## **MomentumAgent** Definition"
      ],
      "metadata": {
        "id": "fm6pqHSypA3m"
      }
    },
    {
      "cell_type": "markdown",
      "source": [
        "This is how you write this ```MomentumAgent``` in Python:\n",
        "\n",
        "<figure><center>\n",
        "<img src=\"https://miro.medium.com/max/1050/1*oq-v4VUolKEM4Cx5kUeCSQ.png\" width=\"60%\">\n",
        "\n",
        "<img src=\"https://miro.medium.com/max/1050/1*Brb755zRjnvSDq90D93GoQ.png\" width=\"60%\">\n",
        "\n",
        "<img src=\"https://miro.medium.com/max/1050/1*JQkdwAwr09MCHOyAX4ExOQ.png\" width=\"60%\">\n",
        "</center></figure>"
      ],
      "metadata": {
        "id": "8sOaHtabroNa"
      }
    },
    {
      "cell_type": "code",
      "execution_count": null,
      "metadata": {
        "id": "EDd9tIv2XmRY"
      },
      "outputs": [],
      "source": [
        "from src.momentum_agent import MomentumAgent\n",
        "\n",
        "perfect_agent = MomentumAgent(env)\n",
        "perfect_policy = plot_policy(perfect_agent, positions, velocities)"
      ]
    },
    {
      "cell_type": "code",
      "execution_count": null,
      "metadata": {
        "id": "HHIL12I_3P1l"
      },
      "outputs": [],
      "source": [
        "from src.momentum_agent import MomentumAgent\n",
        "agent = MomentumAgent(env)\n",
        "\n",
        "from src.loops import evaluate\n",
        "n_episodes = 1000\n",
        "f_epsilon = 0.1\n",
        "rewards, max_positions = evaluate(agent, env, n_episodes, f_epsilon)"
      ]
    },
    {
      "cell_type": "markdown",
      "source": [
        "## Evaluation"
      ],
      "metadata": {
        "id": "lT3PA0CJpxwD"
      }
    },
    {
      "cell_type": "code",
      "source": [
        "### And the success rate is... great!\n",
        "n_completed = sum([1 if m > 0.5 else 0 for m in max_positions])\n",
        "print(f'MomentumAgent: {n_completed} success out of {n_episodes} attempts')"
      ],
      "metadata": {
        "id": "vDIYrPhsp2h8"
      },
      "execution_count": null,
      "outputs": []
    },
    {
      "cell_type": "code",
      "source": [
        "### Let's see how far we got in each attempt\n",
        "import matplotlib.pyplot as plt\n",
        "import pandas as pd\n",
        "\n",
        "fig, ax = plt.subplots(figsize = (10, 4))\n",
        "ax.set_title(\"Max position reached by the car\")    \n",
        "ax.set(xlim=(-0.5, 0.6), xticks=np.arange(-0.5, 0.6, 0.1))\n",
        "pd.Series(max_positions).plot(kind='hist', bins=100)\n",
        "\n",
        "plt.show()"
      ],
      "metadata": {
        "id": "kTpV5LgXqEwG"
      },
      "execution_count": null,
      "outputs": []
    },
    {
      "cell_type": "code",
      "source": [
        "### Let's see our agent in action 🎬\n",
        "\n",
        "# Workaround for pygame error: \"error: No available video device\"\n",
        "# See https://stackoverflow.com/questions/15933493/pygame-error-no-available-video-device?rq=1\n",
        "# This is probably needed only for Linux\n",
        "import os\n",
        "os.environ[\"SDL_VIDEODRIVER\"] = \"dummy\"\n",
        "from src.viz import show_video\n",
        "\n",
        "show_video(agent, env, sleep_sec=0.01)"
      ],
      "metadata": {
        "id": "2CjINbVrqOlH"
      },
      "execution_count": null,
      "outputs": []
    },
    {
      "cell_type": "markdown",
      "source": [
        "## Plot the policy 🎨"
      ],
      "metadata": {
        "id": "H1t_5mDCqVVd"
      }
    },
    {
      "cell_type": "code",
      "source": [
        "import numpy as np\n",
        "from src.viz import plot_policy\n",
        "\n",
        "positions = np.arange(env.min_position, env.max_position, 0.05)\n",
        "velocities = np.arange(-env.max_speed, env.max_speed, 0.005)\n",
        "plot_policy(agent, positions, velocities)"
      ],
      "metadata": {
        "id": "eUoUqwTQqaCi"
      },
      "execution_count": null,
      "outputs": []
    },
    {
      "cell_type": "markdown",
      "metadata": {
        "id": "5pEh0lSUXssg"
      },
      "source": [
        "## **SarsaAgent** & **MemoneumAgent** overlap only in $50\\%$ of the states\n",
        "\n",
        "This means our SarsaAgent is right only 50% of the time."
      ]
    },
    {
      "cell_type": "code",
      "execution_count": null,
      "metadata": {
        "id": "JC-VdHSBYASL"
      },
      "outputs": [],
      "source": [
        "perfect_action = perfect_policy['action']\n",
        "sarsa_action = sarsa_policy['action']\n",
        "\n",
        "print(f'SarsaAgent & MomentumAgent overlaps: {(perfect_action == sarsa_action).sum() / len(perfect_action)}')\n",
        "#(perfect_action == sarsa_action).sum() / len(perfect_action)"
      ]
    },
    {
      "cell_type": "markdown",
      "source": [
        "### Why  **SarsaAgent** wrong so often but still achieves good performance?\n",
        "\n",
        "* This is because the ```MountainCar``` is still a small environment, so taking wrong decisions $50\\%$ of the time is not so critical. For larger problems, being wrong so often is not enough to build intelligent agents.\n",
        "\n",
        "  - Would you buy a self-driving car that is right 95% of the time? 😱\n",
        "\n",
        "* Also, do you remember the ***discretization*** trick we used to apply **SARSA**? That was a trick that helped us a lot but also introduced an error/bias to our solution."
      ],
      "metadata": {
        "id": "q0RA7PAc_xVf"
      }
    },
    {
      "cell_type": "markdown",
      "source": [
        "### **curse of dimensionality**\n",
        "\n",
        "Why don’t we increase the resolution of the discretization for the state and velocity, to get a better solution?\n",
        "\n",
        "The problem of doing this is the exponential growth in the number of states, also called the **curse of dimensionality**. As you increase the resolution of each state component, the total number of states grows exponentially. The state-space grows too fast for the SARSA agent to converge to the optimal policy in a reasonable amount of time."
      ],
      "metadata": {
        "id": "pb-098EWAUGO"
      }
    },
    {
      "cell_type": "markdown",
      "source": [
        "## **Policy Optimization**\n",
        "\n",
        "Ok, but are there any other RL algorithms that can solve this problem perfectly?\n",
        "\n",
        "Yes, there are. And we will cover them in upcoming lectures. In general, there is no one-size-fits-all when it comes to RL algorithms, so you need to try several of them for your problem to see what works best.\n",
        "\n",
        "In the ```MountainCar``` environment, the perfect policy looks so simple that we can try to learn it directly, without the need to compute complicated **$q$-value** matrices. A **policy optimization** method will probably work best.\n",
        "\n",
        "But we are not going to do this today. If you want to solve this environment perfectly using RL, follow along with the course.\n",
        "\n",
        "Enjoy what you’ve accomplished today."
      ],
      "metadata": {
        "id": "dQ-RmCpOAwQt"
      }
    },
    {
      "cell_type": "markdown",
      "metadata": {
        "id": "f7C65Sx_SxnF"
      },
      "source": [
        "#6.. Recap ✨\n",
        "These are the 5 takeaways:\n",
        "\n",
        "1. **SARSA** is an on-policy algorithm you can use in tabular environments.\n",
        "2. Small continuous environments can be treated as tabular, using a discretization of the state, and then solved with **tabular SARSA** or **tabular $Q$-learning**.\n",
        "3. Larger environments cannot be discretized and solved because of the curse of dimensionality.\n",
        "4. For more complex environments than ```MountainCar``` we will need more advanced RL solutions.\n",
        "5. **Sometimes RL is not the best solution**. Keep that in mind when you try to solve the problems you care about. Do not marry your tools (in this case RL), instead focus on finding a good solution. Do not miss the forest for the trees 🌲🌲🌲."
      ]
    },
    {
      "cell_type": "markdown",
      "metadata": {
        "id": "hLm6ovHwTfIE"
      },
      "source": [
        "#7.. Homework 📚\n",
        "👉🏽 [04_homework.ipynb](https://github.com/Paulescu/hands-on-rl/blob/main/02_mountain_car/notebooks/04_homework.ipynb)\n",
        "\n",
        "This is what I want you to do:\n",
        "\n",
        "1. [Git clone](https://github.com/Paulescu/hands-on-rl) the repo to your local machine.\n",
        "2. [Setup](https://github.com/Paulescu/hands-on-rl/tree/main/02_mountain_car#quick-setup) the environment for this lesson ```02_mountain_car```\n",
        "3. Open ```02_mountain_car/notebooks/04_homework.ipynb``` and try completing the 2 challenges.\n",
        "\n",
        "In the first challenge, I ask you to tune the SARSA hyper-parameters ```alpha``` (***learning rate***) and ```gamma``` (***discount factor***) to speed up training. You can get inspiration from [part 2(medium)](https://towardsdatascience.com/hands-on-reinforcement-learning-course-part-2-1b0828a1046b),  [part 2(ivan colab)](https://colab.research.google.com/drive/1Dn2cWuBFIG1rO8h3d92jSqDFiQW5RvLj?usp=sharing).\n",
        "\n",
        "In the second challenge, try to increase the resolution of the discretization and learn the q-value function with tabular SARSA. As we did today.\n",
        "\n",
        "Let me know if you build an agent that achieves $99\\%$ performance.\n",
        "\n",
        "As usual, if you get stuck and you need feedback drop me a line at plabartabajo@gmail.com."
      ]
    },
    {
      "cell_type": "markdown",
      "metadata": {
        "id": "22WAUdHlP0kZ"
      },
      "source": [
        "++++++++++++++++++++++++++++++++++++++++++ Ivan H.P. Lin (2022/07/17) +++++++++++++"
      ]
    }
  ],
  "metadata": {
    "colab": {
      "collapsed_sections": [],
      "name": "03_Hands-on RL_Tabular SARSA-220801.ipynb",
      "toc_visible": true,
      "provenance": [],
      "authorship_tag": "ABX9TyPH6GVedhqNPvl2JG93LppE",
      "include_colab_link": true
    },
    "kernelspec": {
      "display_name": "Python 3",
      "name": "python3"
    },
    "language_info": {
      "name": "python"
    }
  },
  "nbformat": 4,
  "nbformat_minor": 0
}